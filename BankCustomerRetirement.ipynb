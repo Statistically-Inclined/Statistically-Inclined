{
  "nbformat": 4,
  "nbformat_minor": 0,
  "metadata": {
    "colab": {
      "name": "BankCustomerRetirement.ipynb",
      "provenance": [],
      "collapsed_sections": [],
      "authorship_tag": "ABX9TyPXdD4Z/9fxDClAQh7UfwmX",
      "include_colab_link": true
    },
    "kernelspec": {
      "name": "python3",
      "display_name": "Python 3"
    },
    "language_info": {
      "name": "python"
    }
  },
  "cells": [
    {
      "cell_type": "markdown",
      "metadata": {
        "id": "view-in-github",
        "colab_type": "text"
      },
      "source": [
        "<a href=\"https://colab.research.google.com/github/Statistically-Inclined/Statistically-Inclined/blob/main/BankCustomerRetirement.ipynb\" target=\"_parent\"><img src=\"https://colab.research.google.com/assets/colab-badge.svg\" alt=\"Open In Colab\"/></a>"
      ]
    },
    {
      "cell_type": "code",
      "execution_count": null,
      "metadata": {
        "id": "fsQAOQ7tOqv2"
      },
      "outputs": [],
      "source": [
        "%matplotlib inline\n",
        "import numpy as np\n",
        "import pandas as pd\n",
        "import seaborn as sns\n",
        "import matplotlib.pyplot as plt\n",
        "\n",
        "import warnings\n",
        "warnings.filterwarnings('ignore')"
      ]
    },
    {
      "cell_type": "code",
      "source": [
        "df_bank = pd.read_csv(\"Bank_Customer_retirement.csv\")\n",
        "df = df_bank.copy()"
      ],
      "metadata": {
        "id": "DMN01MIMPEyz"
      },
      "execution_count": null,
      "outputs": []
    },
    {
      "cell_type": "code",
      "source": [
        "df.head()"
      ],
      "metadata": {
        "colab": {
          "base_uri": "https://localhost:8080/",
          "height": 206
        },
        "id": "tVHfGatUPO_d",
        "outputId": "cfb9aed3-f6df-4411-f2f3-d8e7d16f19c9"
      },
      "execution_count": null,
      "outputs": [
        {
          "output_type": "execute_result",
          "data": {
            "text/plain": [
              "   Customer ID        Age  401K Savings  Retire\n",
              "0            0  39.180417   322349.8740       0\n",
              "1            1  56.101686   768671.5740       1\n",
              "2            2  57.023043   821505.4718       1\n",
              "3            3  43.711358   494187.4850       0\n",
              "4            4  54.728823   691435.7723       1"
            ],
            "text/html": [
              "\n",
              "  <div id=\"df-15b18c3b-857b-4b69-9a04-ca74fa95286b\">\n",
              "    <div class=\"colab-df-container\">\n",
              "      <div>\n",
              "<style scoped>\n",
              "    .dataframe tbody tr th:only-of-type {\n",
              "        vertical-align: middle;\n",
              "    }\n",
              "\n",
              "    .dataframe tbody tr th {\n",
              "        vertical-align: top;\n",
              "    }\n",
              "\n",
              "    .dataframe thead th {\n",
              "        text-align: right;\n",
              "    }\n",
              "</style>\n",
              "<table border=\"1\" class=\"dataframe\">\n",
              "  <thead>\n",
              "    <tr style=\"text-align: right;\">\n",
              "      <th></th>\n",
              "      <th>Customer ID</th>\n",
              "      <th>Age</th>\n",
              "      <th>401K Savings</th>\n",
              "      <th>Retire</th>\n",
              "    </tr>\n",
              "  </thead>\n",
              "  <tbody>\n",
              "    <tr>\n",
              "      <th>0</th>\n",
              "      <td>0</td>\n",
              "      <td>39.180417</td>\n",
              "      <td>322349.8740</td>\n",
              "      <td>0</td>\n",
              "    </tr>\n",
              "    <tr>\n",
              "      <th>1</th>\n",
              "      <td>1</td>\n",
              "      <td>56.101686</td>\n",
              "      <td>768671.5740</td>\n",
              "      <td>1</td>\n",
              "    </tr>\n",
              "    <tr>\n",
              "      <th>2</th>\n",
              "      <td>2</td>\n",
              "      <td>57.023043</td>\n",
              "      <td>821505.4718</td>\n",
              "      <td>1</td>\n",
              "    </tr>\n",
              "    <tr>\n",
              "      <th>3</th>\n",
              "      <td>3</td>\n",
              "      <td>43.711358</td>\n",
              "      <td>494187.4850</td>\n",
              "      <td>0</td>\n",
              "    </tr>\n",
              "    <tr>\n",
              "      <th>4</th>\n",
              "      <td>4</td>\n",
              "      <td>54.728823</td>\n",
              "      <td>691435.7723</td>\n",
              "      <td>1</td>\n",
              "    </tr>\n",
              "  </tbody>\n",
              "</table>\n",
              "</div>\n",
              "      <button class=\"colab-df-convert\" onclick=\"convertToInteractive('df-15b18c3b-857b-4b69-9a04-ca74fa95286b')\"\n",
              "              title=\"Convert this dataframe to an interactive table.\"\n",
              "              style=\"display:none;\">\n",
              "        \n",
              "  <svg xmlns=\"http://www.w3.org/2000/svg\" height=\"24px\"viewBox=\"0 0 24 24\"\n",
              "       width=\"24px\">\n",
              "    <path d=\"M0 0h24v24H0V0z\" fill=\"none\"/>\n",
              "    <path d=\"M18.56 5.44l.94 2.06.94-2.06 2.06-.94-2.06-.94-.94-2.06-.94 2.06-2.06.94zm-11 1L8.5 8.5l.94-2.06 2.06-.94-2.06-.94L8.5 2.5l-.94 2.06-2.06.94zm10 10l.94 2.06.94-2.06 2.06-.94-2.06-.94-.94-2.06-.94 2.06-2.06.94z\"/><path d=\"M17.41 7.96l-1.37-1.37c-.4-.4-.92-.59-1.43-.59-.52 0-1.04.2-1.43.59L10.3 9.45l-7.72 7.72c-.78.78-.78 2.05 0 2.83L4 21.41c.39.39.9.59 1.41.59.51 0 1.02-.2 1.41-.59l7.78-7.78 2.81-2.81c.8-.78.8-2.07 0-2.86zM5.41 20L4 18.59l7.72-7.72 1.47 1.35L5.41 20z\"/>\n",
              "  </svg>\n",
              "      </button>\n",
              "      \n",
              "  <style>\n",
              "    .colab-df-container {\n",
              "      display:flex;\n",
              "      flex-wrap:wrap;\n",
              "      gap: 12px;\n",
              "    }\n",
              "\n",
              "    .colab-df-convert {\n",
              "      background-color: #E8F0FE;\n",
              "      border: none;\n",
              "      border-radius: 50%;\n",
              "      cursor: pointer;\n",
              "      display: none;\n",
              "      fill: #1967D2;\n",
              "      height: 32px;\n",
              "      padding: 0 0 0 0;\n",
              "      width: 32px;\n",
              "    }\n",
              "\n",
              "    .colab-df-convert:hover {\n",
              "      background-color: #E2EBFA;\n",
              "      box-shadow: 0px 1px 2px rgba(60, 64, 67, 0.3), 0px 1px 3px 1px rgba(60, 64, 67, 0.15);\n",
              "      fill: #174EA6;\n",
              "    }\n",
              "\n",
              "    [theme=dark] .colab-df-convert {\n",
              "      background-color: #3B4455;\n",
              "      fill: #D2E3FC;\n",
              "    }\n",
              "\n",
              "    [theme=dark] .colab-df-convert:hover {\n",
              "      background-color: #434B5C;\n",
              "      box-shadow: 0px 1px 3px 1px rgba(0, 0, 0, 0.15);\n",
              "      filter: drop-shadow(0px 1px 2px rgba(0, 0, 0, 0.3));\n",
              "      fill: #FFFFFF;\n",
              "    }\n",
              "  </style>\n",
              "\n",
              "      <script>\n",
              "        const buttonEl =\n",
              "          document.querySelector('#df-15b18c3b-857b-4b69-9a04-ca74fa95286b button.colab-df-convert');\n",
              "        buttonEl.style.display =\n",
              "          google.colab.kernel.accessAllowed ? 'block' : 'none';\n",
              "\n",
              "        async function convertToInteractive(key) {\n",
              "          const element = document.querySelector('#df-15b18c3b-857b-4b69-9a04-ca74fa95286b');\n",
              "          const dataTable =\n",
              "            await google.colab.kernel.invokeFunction('convertToInteractive',\n",
              "                                                     [key], {});\n",
              "          if (!dataTable) return;\n",
              "\n",
              "          const docLinkHtml = 'Like what you see? Visit the ' +\n",
              "            '<a target=\"_blank\" href=https://colab.research.google.com/notebooks/data_table.ipynb>data table notebook</a>'\n",
              "            + ' to learn more about interactive tables.';\n",
              "          element.innerHTML = '';\n",
              "          dataTable['output_type'] = 'display_data';\n",
              "          await google.colab.output.renderOutput(dataTable, element);\n",
              "          const docLink = document.createElement('div');\n",
              "          docLink.innerHTML = docLinkHtml;\n",
              "          element.appendChild(docLink);\n",
              "        }\n",
              "      </script>\n",
              "    </div>\n",
              "  </div>\n",
              "  "
            ]
          },
          "metadata": {},
          "execution_count": 3
        }
      ]
    },
    {
      "cell_type": "code",
      "source": [
        "df.shape"
      ],
      "metadata": {
        "colab": {
          "base_uri": "https://localhost:8080/"
        },
        "id": "vYQzVAPsTnWF",
        "outputId": "b0934a2f-a6d4-4cd7-d230-d446edb74973"
      },
      "execution_count": null,
      "outputs": [
        {
          "output_type": "execute_result",
          "data": {
            "text/plain": [
              "(500, 4)"
            ]
          },
          "metadata": {},
          "execution_count": 4
        }
      ]
    },
    {
      "cell_type": "code",
      "source": [
        "df.info()"
      ],
      "metadata": {
        "colab": {
          "base_uri": "https://localhost:8080/"
        },
        "id": "6PUI8zEETuGu",
        "outputId": "44670ee2-94cc-444f-f275-f5f08fe404f1"
      },
      "execution_count": null,
      "outputs": [
        {
          "output_type": "stream",
          "name": "stdout",
          "text": [
            "<class 'pandas.core.frame.DataFrame'>\n",
            "RangeIndex: 500 entries, 0 to 499\n",
            "Data columns (total 4 columns):\n",
            " #   Column        Non-Null Count  Dtype  \n",
            "---  ------        --------------  -----  \n",
            " 0   Customer ID   500 non-null    int64  \n",
            " 1   Age           500 non-null    float64\n",
            " 2   401K Savings  500 non-null    float64\n",
            " 3   Retire        500 non-null    int64  \n",
            "dtypes: float64(2), int64(2)\n",
            "memory usage: 15.8 KB\n"
          ]
        }
      ]
    },
    {
      "cell_type": "code",
      "source": [
        "df.drop('Customer ID', axis=1, inplace=True)"
      ],
      "metadata": {
        "id": "PHwyMvEOPXoP"
      },
      "execution_count": null,
      "outputs": []
    },
    {
      "cell_type": "code",
      "source": [
        "df.describe()"
      ],
      "metadata": {
        "colab": {
          "base_uri": "https://localhost:8080/",
          "height": 300
        },
        "id": "BMGlqbDVPlPg",
        "outputId": "caf4641c-8ab2-4612-d320-e51fecc0018e"
      },
      "execution_count": null,
      "outputs": [
        {
          "output_type": "execute_result",
          "data": {
            "text/plain": [
              "              Age    401K Savings      Retire\n",
              "count  500.000000      500.000000  500.000000\n",
              "mean    46.757077   534984.465804    0.500000\n",
              "std      7.790125   187675.818881    0.500501\n",
              "min     25.000000       10.000000    0.000000\n",
              "25%     41.299451   382626.524425    0.000000\n",
              "50%     46.695770   534512.984350    0.500000\n",
              "75%     52.322551   680670.257025    1.000000\n",
              "max     70.000000  1000000.000000    1.000000"
            ],
            "text/html": [
              "\n",
              "  <div id=\"df-3ab4f988-008c-4c76-98b5-eb0b6aa36e17\">\n",
              "    <div class=\"colab-df-container\">\n",
              "      <div>\n",
              "<style scoped>\n",
              "    .dataframe tbody tr th:only-of-type {\n",
              "        vertical-align: middle;\n",
              "    }\n",
              "\n",
              "    .dataframe tbody tr th {\n",
              "        vertical-align: top;\n",
              "    }\n",
              "\n",
              "    .dataframe thead th {\n",
              "        text-align: right;\n",
              "    }\n",
              "</style>\n",
              "<table border=\"1\" class=\"dataframe\">\n",
              "  <thead>\n",
              "    <tr style=\"text-align: right;\">\n",
              "      <th></th>\n",
              "      <th>Age</th>\n",
              "      <th>401K Savings</th>\n",
              "      <th>Retire</th>\n",
              "    </tr>\n",
              "  </thead>\n",
              "  <tbody>\n",
              "    <tr>\n",
              "      <th>count</th>\n",
              "      <td>500.000000</td>\n",
              "      <td>500.000000</td>\n",
              "      <td>500.000000</td>\n",
              "    </tr>\n",
              "    <tr>\n",
              "      <th>mean</th>\n",
              "      <td>46.757077</td>\n",
              "      <td>534984.465804</td>\n",
              "      <td>0.500000</td>\n",
              "    </tr>\n",
              "    <tr>\n",
              "      <th>std</th>\n",
              "      <td>7.790125</td>\n",
              "      <td>187675.818881</td>\n",
              "      <td>0.500501</td>\n",
              "    </tr>\n",
              "    <tr>\n",
              "      <th>min</th>\n",
              "      <td>25.000000</td>\n",
              "      <td>10.000000</td>\n",
              "      <td>0.000000</td>\n",
              "    </tr>\n",
              "    <tr>\n",
              "      <th>25%</th>\n",
              "      <td>41.299451</td>\n",
              "      <td>382626.524425</td>\n",
              "      <td>0.000000</td>\n",
              "    </tr>\n",
              "    <tr>\n",
              "      <th>50%</th>\n",
              "      <td>46.695770</td>\n",
              "      <td>534512.984350</td>\n",
              "      <td>0.500000</td>\n",
              "    </tr>\n",
              "    <tr>\n",
              "      <th>75%</th>\n",
              "      <td>52.322551</td>\n",
              "      <td>680670.257025</td>\n",
              "      <td>1.000000</td>\n",
              "    </tr>\n",
              "    <tr>\n",
              "      <th>max</th>\n",
              "      <td>70.000000</td>\n",
              "      <td>1000000.000000</td>\n",
              "      <td>1.000000</td>\n",
              "    </tr>\n",
              "  </tbody>\n",
              "</table>\n",
              "</div>\n",
              "      <button class=\"colab-df-convert\" onclick=\"convertToInteractive('df-3ab4f988-008c-4c76-98b5-eb0b6aa36e17')\"\n",
              "              title=\"Convert this dataframe to an interactive table.\"\n",
              "              style=\"display:none;\">\n",
              "        \n",
              "  <svg xmlns=\"http://www.w3.org/2000/svg\" height=\"24px\"viewBox=\"0 0 24 24\"\n",
              "       width=\"24px\">\n",
              "    <path d=\"M0 0h24v24H0V0z\" fill=\"none\"/>\n",
              "    <path d=\"M18.56 5.44l.94 2.06.94-2.06 2.06-.94-2.06-.94-.94-2.06-.94 2.06-2.06.94zm-11 1L8.5 8.5l.94-2.06 2.06-.94-2.06-.94L8.5 2.5l-.94 2.06-2.06.94zm10 10l.94 2.06.94-2.06 2.06-.94-2.06-.94-.94-2.06-.94 2.06-2.06.94z\"/><path d=\"M17.41 7.96l-1.37-1.37c-.4-.4-.92-.59-1.43-.59-.52 0-1.04.2-1.43.59L10.3 9.45l-7.72 7.72c-.78.78-.78 2.05 0 2.83L4 21.41c.39.39.9.59 1.41.59.51 0 1.02-.2 1.41-.59l7.78-7.78 2.81-2.81c.8-.78.8-2.07 0-2.86zM5.41 20L4 18.59l7.72-7.72 1.47 1.35L5.41 20z\"/>\n",
              "  </svg>\n",
              "      </button>\n",
              "      \n",
              "  <style>\n",
              "    .colab-df-container {\n",
              "      display:flex;\n",
              "      flex-wrap:wrap;\n",
              "      gap: 12px;\n",
              "    }\n",
              "\n",
              "    .colab-df-convert {\n",
              "      background-color: #E8F0FE;\n",
              "      border: none;\n",
              "      border-radius: 50%;\n",
              "      cursor: pointer;\n",
              "      display: none;\n",
              "      fill: #1967D2;\n",
              "      height: 32px;\n",
              "      padding: 0 0 0 0;\n",
              "      width: 32px;\n",
              "    }\n",
              "\n",
              "    .colab-df-convert:hover {\n",
              "      background-color: #E2EBFA;\n",
              "      box-shadow: 0px 1px 2px rgba(60, 64, 67, 0.3), 0px 1px 3px 1px rgba(60, 64, 67, 0.15);\n",
              "      fill: #174EA6;\n",
              "    }\n",
              "\n",
              "    [theme=dark] .colab-df-convert {\n",
              "      background-color: #3B4455;\n",
              "      fill: #D2E3FC;\n",
              "    }\n",
              "\n",
              "    [theme=dark] .colab-df-convert:hover {\n",
              "      background-color: #434B5C;\n",
              "      box-shadow: 0px 1px 3px 1px rgba(0, 0, 0, 0.15);\n",
              "      filter: drop-shadow(0px 1px 2px rgba(0, 0, 0, 0.3));\n",
              "      fill: #FFFFFF;\n",
              "    }\n",
              "  </style>\n",
              "\n",
              "      <script>\n",
              "        const buttonEl =\n",
              "          document.querySelector('#df-3ab4f988-008c-4c76-98b5-eb0b6aa36e17 button.colab-df-convert');\n",
              "        buttonEl.style.display =\n",
              "          google.colab.kernel.accessAllowed ? 'block' : 'none';\n",
              "\n",
              "        async function convertToInteractive(key) {\n",
              "          const element = document.querySelector('#df-3ab4f988-008c-4c76-98b5-eb0b6aa36e17');\n",
              "          const dataTable =\n",
              "            await google.colab.kernel.invokeFunction('convertToInteractive',\n",
              "                                                     [key], {});\n",
              "          if (!dataTable) return;\n",
              "\n",
              "          const docLinkHtml = 'Like what you see? Visit the ' +\n",
              "            '<a target=\"_blank\" href=https://colab.research.google.com/notebooks/data_table.ipynb>data table notebook</a>'\n",
              "            + ' to learn more about interactive tables.';\n",
              "          element.innerHTML = '';\n",
              "          dataTable['output_type'] = 'display_data';\n",
              "          await google.colab.output.renderOutput(dataTable, element);\n",
              "          const docLink = document.createElement('div');\n",
              "          docLink.innerHTML = docLinkHtml;\n",
              "          element.appendChild(docLink);\n",
              "        }\n",
              "      </script>\n",
              "    </div>\n",
              "  </div>\n",
              "  "
            ]
          },
          "metadata": {},
          "execution_count": 7
        }
      ]
    },
    {
      "cell_type": "code",
      "source": [
        "plt.figure(figsize=(30,15))\n",
        "plt.subplot(2,2,1)\n",
        "sns.histplot(df['Age'])\n",
        "plt.subplot(2,2,2)\n",
        "sns.distplot(df['Age'])\n",
        "plt.subplot(2,2,3)\n",
        "sns.histplot(df['401K Savings'])\n",
        "plt.subplot(2,2,4)\n",
        "sns.distplot(df['401K Savings'])\n",
        "plt.show()"
      ],
      "metadata": {
        "colab": {
          "base_uri": "https://localhost:8080/",
          "height": 714
        },
        "id": "Hn6TXr6hPx2J",
        "outputId": "233382f6-499b-4ab3-cbbb-9686c0e133f5"
      },
      "execution_count": null,
      "outputs": [
        {
          "output_type": "display_data",
          "data": {
            "text/plain": [
              "<Figure size 2160x1080 with 4 Axes>"
            ],
            "image/png": "[encoded data removed]"
          },
          "metadata": {
            "needs_background": "light"
          }
        }
      ]
    },
    {
      "cell_type": "code",
      "source": [
        "plt.figure(figsize=(20,7))\n",
        "plt.subplot(1,2,1)\n",
        "sns.countplot(df['Retire'])\n",
        "plt.subplot(1,2,2)\n",
        "df['Retire'].value_counts().plot(kind='pie', autopct='%.2f')"
      ],
      "metadata": {
        "colab": {
          "base_uri": "https://localhost:8080/",
          "height": 460
        },
        "id": "BLJYOMUWQDAM",
        "outputId": "a2f88c45-9ffa-4e26-c9df-2d88093049aa"
      },
      "execution_count": null,
      "outputs": [
        {
          "output_type": "execute_result",
          "data": {
            "text/plain": [
              "<matplotlib.axes._subplots.AxesSubplot at 0x7f1e0e8a7350>"
            ]
          },
          "metadata": {},
          "execution_count": 9
        },
        {
          "output_type": "display_data",
          "data": {
            "text/plain": [
              "<Figure size 1440x504 with 2 Axes>"
            ],
            "image/png": "[encoded data removed]"
          },
          "metadata": {
            "needs_background": "light"
          }
        }
      ]
    },
    {
      "cell_type": "code",
      "source": [
        "plt.figure(figsize=(30,15))\n",
        "plt.subplot(2,2,1)\n",
        "sns.violinplot(df['Age'])\n",
        "plt.subplot(2,2,2)\n",
        "sns.boxplot(df['Age'])\n",
        "plt.subplot(2,2,3)\n",
        "sns.violinplot(df['401K Savings'])\n",
        "plt.subplot(2,2,4)\n",
        "sns.boxplot(df['401K Savings'])\n",
        "plt.show()"
      ],
      "metadata": {
        "colab": {
          "base_uri": "https://localhost:8080/",
          "height": 727
        },
        "id": "kdD0_4v7Q1Qq",
        "outputId": "cb2da4b7-e9d6-4428-eecd-24bd409ad514"
      },
      "execution_count": null,
      "outputs": [
        {
          "output_type": "display_data",
          "data": {
            "text/plain": [
              "<Figure size 2160x1080 with 4 Axes>"
            ],
            "image/png": "[encoded data removed]"
          },
          "metadata": {
            "needs_background": "light"
          }
        }
      ]
    },
    {
      "cell_type": "code",
      "source": [
        "sns.pairplot(df, hue='Retire')"
      ],
      "metadata": {
        "colab": {
          "base_uri": "https://localhost:8080/",
          "height": 392
        },
        "id": "IjhIP1TfRVBt",
        "outputId": "e57d6933-2bcc-447b-ca98-38aff565b464"
      },
      "execution_count": null,
      "outputs": [
        {
          "output_type": "execute_result",
          "data": {
            "text/plain": [
              "<seaborn.axisgrid.PairGrid at 0x7f1e0e6548d0>"
            ]
          },
          "metadata": {},
          "execution_count": 11
        },
        {
          "output_type": "display_data",
          "data": {
            "text/plain": [
              "<Figure size 402.375x360 with 6 Axes>"
            ],
            "image/png": "[encoded data removed]"
          },
          "metadata": {
            "needs_background": "light"
          }
        }
      ]
    },
    {
      "cell_type": "code",
      "source": [
        "a = plt.figure(figsize=(30,7))\n",
        "a = plt.subplot(1,2,1)\n",
        "sns.distplot(df[df['Retire']==1]['Age'], color='dodgerblue', hist=True)\n",
        "sns.distplot(df[df['Retire']==0]['Age'], color='red', hist=True)\n",
        "labels = ['Retire', 'Non-Retire']\n",
        "a.legend(labels, fontsize=15)\n",
        "\n",
        "a = plt.subplot(1,2,2)\n",
        "sns.distplot(df[df['Retire']==1]['401K Savings'], color='dodgerblue', hist=True)\n",
        "sns.distplot(df[df['Retire']==0]['401K Savings'], color='red', hist=True)\n",
        "labels = ['Retire', 'Non-Retire']\n",
        "a.legend(labels, fontsize=15)"
      ],
      "metadata": {
        "colab": {
          "base_uri": "https://localhost:8080/",
          "height": 387
        },
        "id": "GXDo8Qf6Wo_o",
        "outputId": "62c573d1-ccea-45dc-f197-962d1d30c7ed"
      },
      "execution_count": null,
      "outputs": [
        {
          "output_type": "execute_result",
          "data": {
            "text/plain": [
              "<matplotlib.legend.Legend at 0x7f1e0bb05110>"
            ]
          },
          "metadata": {},
          "execution_count": 12
        },
        {
          "output_type": "display_data",
          "data": {
            "text/plain": [
              "<Figure size 2160x504 with 2 Axes>"
            ],
            "image/png": "[encoded data removed]"
          },
          "metadata": {
            "needs_background": "light"
          }
        }
      ]
    },
    {
      "cell_type": "code",
      "source": [
        "plt.figure(figsize=(15,7))\n",
        "plt.subplot(1,2,1)\n",
        "sns.boxplot(df['Retire'], df['Age'])\n",
        "plt.subplot(1,2,2)\n",
        "sns.boxplot(df['Retire'], df['401K Savings'])"
      ],
      "metadata": {
        "colab": {
          "base_uri": "https://localhost:8080/",
          "height": 471
        },
        "id": "lmyq4L2-Xz05",
        "outputId": "5f8180ff-4a0f-4b99-adbb-80d38206fb7d"
      },
      "execution_count": null,
      "outputs": [
        {
          "output_type": "execute_result",
          "data": {
            "text/plain": [
              "<matplotlib.axes._subplots.AxesSubplot at 0x7f1e0bb88f90>"
            ]
          },
          "metadata": {},
          "execution_count": 13
        },
        {
          "output_type": "display_data",
          "data": {
            "text/plain": [
              "<Figure size 1080x504 with 2 Axes>"
            ],
            "image/png": "[encoded data removed]"
          },
          "metadata": {
            "needs_background": "light"
          }
        }
      ]
    },
    {
      "cell_type": "code",
      "source": [
        "df.corr()"
      ],
      "metadata": {
        "colab": {
          "base_uri": "https://localhost:8080/",
          "height": 143
        },
        "id": "R5MgVmJBRj6f",
        "outputId": "f520ae78-2eb8-4da1-c586-4017b0d64463"
      },
      "execution_count": null,
      "outputs": [
        {
          "output_type": "execute_result",
          "data": {
            "text/plain": [
              "                   Age  401K Savings    Retire\n",
              "Age           1.000000      0.584608  0.729934\n",
              "401K Savings  0.584608      1.000000  0.777673\n",
              "Retire        0.729934      0.777673  1.000000"
            ],
            "text/html": [
              "\n",
              "  <div id=\"df-170aa7fd-ad6d-4f3e-9a02-539c7f579be6\">\n",
              "    <div class=\"colab-df-container\">\n",
              "      <div>\n",
              "<style scoped>\n",
              "    .dataframe tbody tr th:only-of-type {\n",
              "        vertical-align: middle;\n",
              "    }\n",
              "\n",
              "    .dataframe tbody tr th {\n",
              "        vertical-align: top;\n",
              "    }\n",
              "\n",
              "    .dataframe thead th {\n",
              "        text-align: right;\n",
              "    }\n",
              "</style>\n",
              "<table border=\"1\" class=\"dataframe\">\n",
              "  <thead>\n",
              "    <tr style=\"text-align: right;\">\n",
              "      <th></th>\n",
              "      <th>Age</th>\n",
              "      <th>401K Savings</th>\n",
              "      <th>Retire</th>\n",
              "    </tr>\n",
              "  </thead>\n",
              "  <tbody>\n",
              "    <tr>\n",
              "      <th>Age</th>\n",
              "      <td>1.000000</td>\n",
              "      <td>0.584608</td>\n",
              "      <td>0.729934</td>\n",
              "    </tr>\n",
              "    <tr>\n",
              "      <th>401K Savings</th>\n",
              "      <td>0.584608</td>\n",
              "      <td>1.000000</td>\n",
              "      <td>0.777673</td>\n",
              "    </tr>\n",
              "    <tr>\n",
              "      <th>Retire</th>\n",
              "      <td>0.729934</td>\n",
              "      <td>0.777673</td>\n",
              "      <td>1.000000</td>\n",
              "    </tr>\n",
              "  </tbody>\n",
              "</table>\n",
              "</div>\n",
              "      <button class=\"colab-df-convert\" onclick=\"convertToInteractive('df-170aa7fd-ad6d-4f3e-9a02-539c7f579be6')\"\n",
              "              title=\"Convert this dataframe to an interactive table.\"\n",
              "              style=\"display:none;\">\n",
              "        \n",
              "  <svg xmlns=\"http://www.w3.org/2000/svg\" height=\"24px\"viewBox=\"0 0 24 24\"\n",
              "       width=\"24px\">\n",
              "    <path d=\"M0 0h24v24H0V0z\" fill=\"none\"/>\n",
              "    <path d=\"M18.56 5.44l.94 2.06.94-2.06 2.06-.94-2.06-.94-.94-2.06-.94 2.06-2.06.94zm-11 1L8.5 8.5l.94-2.06 2.06-.94-2.06-.94L8.5 2.5l-.94 2.06-2.06.94zm10 10l.94 2.06.94-2.06 2.06-.94-2.06-.94-.94-2.06-.94 2.06-2.06.94z\"/><path d=\"M17.41 7.96l-1.37-1.37c-.4-.4-.92-.59-1.43-.59-.52 0-1.04.2-1.43.59L10.3 9.45l-7.72 7.72c-.78.78-.78 2.05 0 2.83L4 21.41c.39.39.9.59 1.41.59.51 0 1.02-.2 1.41-.59l7.78-7.78 2.81-2.81c.8-.78.8-2.07 0-2.86zM5.41 20L4 18.59l7.72-7.72 1.47 1.35L5.41 20z\"/>\n",
              "  </svg>\n",
              "      </button>\n",
              "      \n",
              "  <style>\n",
              "    .colab-df-container {\n",
              "      display:flex;\n",
              "      flex-wrap:wrap;\n",
              "      gap: 12px;\n",
              "    }\n",
              "\n",
              "    .colab-df-convert {\n",
              "      background-color: #E8F0FE;\n",
              "      border: none;\n",
              "      border-radius: 50%;\n",
              "      cursor: pointer;\n",
              "      display: none;\n",
              "      fill: #1967D2;\n",
              "      height: 32px;\n",
              "      padding: 0 0 0 0;\n",
              "      width: 32px;\n",
              "    }\n",
              "\n",
              "    .colab-df-convert:hover {\n",
              "      background-color: #E2EBFA;\n",
              "      box-shadow: 0px 1px 2px rgba(60, 64, 67, 0.3), 0px 1px 3px 1px rgba(60, 64, 67, 0.15);\n",
              "      fill: #174EA6;\n",
              "    }\n",
              "\n",
              "    [theme=dark] .colab-df-convert {\n",
              "      background-color: #3B4455;\n",
              "      fill: #D2E3FC;\n",
              "    }\n",
              "\n",
              "    [theme=dark] .colab-df-convert:hover {\n",
              "      background-color: #434B5C;\n",
              "      box-shadow: 0px 1px 3px 1px rgba(0, 0, 0, 0.15);\n",
              "      filter: drop-shadow(0px 1px 2px rgba(0, 0, 0, 0.3));\n",
              "      fill: #FFFFFF;\n",
              "    }\n",
              "  </style>\n",
              "\n",
              "      <script>\n",
              "        const buttonEl =\n",
              "          document.querySelector('#df-170aa7fd-ad6d-4f3e-9a02-539c7f579be6 button.colab-df-convert');\n",
              "        buttonEl.style.display =\n",
              "          google.colab.kernel.accessAllowed ? 'block' : 'none';\n",
              "\n",
              "        async function convertToInteractive(key) {\n",
              "          const element = document.querySelector('#df-170aa7fd-ad6d-4f3e-9a02-539c7f579be6');\n",
              "          const dataTable =\n",
              "            await google.colab.kernel.invokeFunction('convertToInteractive',\n",
              "                                                     [key], {});\n",
              "          if (!dataTable) return;\n",
              "\n",
              "          const docLinkHtml = 'Like what you see? Visit the ' +\n",
              "            '<a target=\"_blank\" href=https://colab.research.google.com/notebooks/data_table.ipynb>data table notebook</a>'\n",
              "            + ' to learn more about interactive tables.';\n",
              "          element.innerHTML = '';\n",
              "          dataTable['output_type'] = 'display_data';\n",
              "          await google.colab.output.renderOutput(dataTable, element);\n",
              "          const docLink = document.createElement('div');\n",
              "          docLink.innerHTML = docLinkHtml;\n",
              "          element.appendChild(docLink);\n",
              "        }\n",
              "      </script>\n",
              "    </div>\n",
              "  </div>\n",
              "  "
            ]
          },
          "metadata": {},
          "execution_count": 14
        }
      ]
    },
    {
      "cell_type": "code",
      "source": [
        "sns.heatmap(df.corr(), annot=True)"
      ],
      "metadata": {
        "colab": {
          "base_uri": "https://localhost:8080/",
          "height": 287
        },
        "id": "2BV6epZKR-6P",
        "outputId": "39217c36-3551-432a-c2bc-d7cd44e70327"
      },
      "execution_count": null,
      "outputs": [
        {
          "output_type": "execute_result",
          "data": {
            "text/plain": [
              "<matplotlib.axes._subplots.AxesSubplot at 0x7f1e0b987b10>"
            ]
          },
          "metadata": {},
          "execution_count": 15
        },
        {
          "output_type": "display_data",
          "data": {
            "text/plain": [
              "<Figure size 432x288 with 2 Axes>"
            ],
            "image/png": "[encoded data removed]"
          },
          "metadata": {
            "needs_background": "light"
          }
        }
      ]
    },
    {
      "cell_type": "code",
      "source": [
        "df.isnull().sum()"
      ],
      "metadata": {
        "colab": {
          "base_uri": "https://localhost:8080/"
        },
        "id": "RcdcSXpYSDJc",
        "outputId": "dc3865ec-c34e-4cce-e59d-5b217567f583"
      },
      "execution_count": null,
      "outputs": [
        {
          "output_type": "execute_result",
          "data": {
            "text/plain": [
              "Age             0\n",
              "401K Savings    0\n",
              "Retire          0\n",
              "dtype: int64"
            ]
          },
          "metadata": {},
          "execution_count": 16
        }
      ]
    },
    {
      "cell_type": "code",
      "source": [
        "continuous_features = df.select_dtypes(include=['float']).columns.to_list()\n",
        "continuous_features"
      ],
      "metadata": {
        "colab": {
          "base_uri": "https://localhost:8080/"
        },
        "id": "0KNWCgd1YQwW",
        "outputId": "6559dddc-8753-49b4-c84d-6a99f45037fe"
      },
      "execution_count": null,
      "outputs": [
        {
          "output_type": "execute_result",
          "data": {
            "text/plain": [
              "['Age', '401K Savings']"
            ]
          },
          "metadata": {},
          "execution_count": 17
        }
      ]
    },
    {
      "cell_type": "code",
      "source": [
        "for feature in continuous_features:\n",
        "  Q1 = df[feature].quantile(0.25)\n",
        "  Q3 = df[feature].quantile(0.75)\n",
        "  IQR = Q3 - Q1\n",
        "  LB = Q1 - 1.5*IQR\n",
        "  UB = Q3 + 1.5*IQR\n",
        "\n",
        "  outliers = df[((df[feature]<LB) | (df[feature]>UB))]\n",
        "\n",
        "  print(\"\\nUpper Bound for {} is {}\".format(feature, UB))\n",
        "  print(\"Lower Bound for {} is {}\".format(feature, LB))\n",
        "  print(\"Outliers for {} is {}\".format(feature, len(outliers)))"
      ],
      "metadata": {
        "id": "bYlXgCdHUxDV",
        "colab": {
          "base_uri": "https://localhost:8080/"
        },
        "outputId": "e0c19c9f-5e35-4e1d-89a5-1bab8798f81e"
      },
      "execution_count": null,
      "outputs": [
        {
          "output_type": "stream",
          "name": "stdout",
          "text": [
            "\n",
            "Upper Bound for Age is 68.85720169875\n",
            "Lower Bound for Age is 24.764800568749994\n",
            "Outliers for Age is 1\n",
            "\n",
            "Upper Bound for 401K Savings is 1127735.8559250003\n",
            "Lower Bound for 401K Savings is -64439.07447500009\n",
            "Outliers for 401K Savings is 0\n"
          ]
        }
      ]
    },
    {
      "cell_type": "code",
      "source": [
        "df.loc[df['Age']>=68.85720169875, 'Age'] = 68.85720169875"
      ],
      "metadata": {
        "id": "fR5vgEOnWu-o"
      },
      "execution_count": null,
      "outputs": []
    },
    {
      "cell_type": "code",
      "source": [
        "sns.boxplot(df['Age'])"
      ],
      "metadata": {
        "colab": {
          "base_uri": "https://localhost:8080/",
          "height": 297
        },
        "id": "B47JkKoOZL3J",
        "outputId": "ff506e94-1493-4f74-d898-a328d14aac3a"
      },
      "execution_count": null,
      "outputs": [
        {
          "output_type": "execute_result",
          "data": {
            "text/plain": [
              "<matplotlib.axes._subplots.AxesSubplot at 0x7f1e0e7bb590>"
            ]
          },
          "metadata": {},
          "execution_count": 20
        },
        {
          "output_type": "display_data",
          "data": {
            "text/plain": [
              "<Figure size 432x288 with 1 Axes>"
            ],
            "image/png": "[encoded data removed]"
          },
          "metadata": {
            "needs_background": "light"
          }
        }
      ]
    },
    {
      "cell_type": "code",
      "source": [
        "plt.figure(figsize=(5,3))\n",
        "ax = round(df.corr()['Retire'].sort_values(ascending = False), 2)\n",
        "ax.plot(kind='barh')"
      ],
      "metadata": {
        "colab": {
          "base_uri": "https://localhost:8080/",
          "height": 229
        },
        "id": "IHPIiuqxZUt_",
        "outputId": "faf7f1da-f406-429c-d81a-4472e9a26026"
      },
      "execution_count": null,
      "outputs": [
        {
          "output_type": "execute_result",
          "data": {
            "text/plain": [
              "<matplotlib.axes._subplots.AxesSubplot at 0x7f1e0e74be50>"
            ]
          },
          "metadata": {},
          "execution_count": 21
        },
        {
          "output_type": "display_data",
          "data": {
            "text/plain": [
              "<Figure size 360x216 with 1 Axes>"
            ],
            "image/png": "[encoded data removed]"
          },
          "metadata": {
            "needs_background": "light"
          }
        }
      ]
    },
    {
      "cell_type": "code",
      "source": [
        "X = df.drop('Retire', axis=1)\n",
        "y = df['Retire']"
      ],
      "metadata": {
        "id": "66vAtJmqadA8"
      },
      "execution_count": null,
      "outputs": []
    },
    {
      "cell_type": "code",
      "source": [
        "from sklearn.feature_selection import SelectKBest\n",
        "from sklearn.feature_selection import chi2\n",
        "\n",
        "order_rank = SelectKBest(score_func=chi2, k=2)\n",
        "order_feature = order_rank.fit(X,y)\n",
        "\n",
        "dfscores = pd.DataFrame(order_feature.scores_, columns = [\"Score\"])\n",
        "dfcolumns = pd.DataFrame(X.columns)\n",
        "\n",
        "features_rank = pd.concat([dfcolumns,dfscores],axis=1)\n",
        "\n",
        "features_rank.columns = ['Features','Score']"
      ],
      "metadata": {
        "id": "S_0TP8gSZh70"
      },
      "execution_count": null,
      "outputs": []
    },
    {
      "cell_type": "code",
      "source": [
        "features_rank"
      ],
      "metadata": {
        "colab": {
          "base_uri": "https://localhost:8080/",
          "height": 112
        },
        "id": "RyanGlARaWpy",
        "outputId": "fb369eb5-a54f-4629-c531-1fb8ae81a3d1"
      },
      "execution_count": null,
      "outputs": [
        {
          "output_type": "execute_result",
          "data": {
            "text/plain": [
              "       Features         Score\n",
              "0           Age  3.448108e+02\n",
              "1  401K Savings  1.986874e+07"
            ],
            "text/html": [
              "\n",
              "  <div id=\"df-0bab8da4-c97b-4c15-a4bb-ae611cff77d4\">\n",
              "    <div class=\"colab-df-container\">\n",
              "      <div>\n",
              "<style scoped>\n",
              "    .dataframe tbody tr th:only-of-type {\n",
              "        vertical-align: middle;\n",
              "    }\n",
              "\n",
              "    .dataframe tbody tr th {\n",
              "        vertical-align: top;\n",
              "    }\n",
              "\n",
              "    .dataframe thead th {\n",
              "        text-align: right;\n",
              "    }\n",
              "</style>\n",
              "<table border=\"1\" class=\"dataframe\">\n",
              "  <thead>\n",
              "    <tr style=\"text-align: right;\">\n",
              "      <th></th>\n",
              "      <th>Features</th>\n",
              "      <th>Score</th>\n",
              "    </tr>\n",
              "  </thead>\n",
              "  <tbody>\n",
              "    <tr>\n",
              "      <th>0</th>\n",
              "      <td>Age</td>\n",
              "      <td>3.448108e+02</td>\n",
              "    </tr>\n",
              "    <tr>\n",
              "      <th>1</th>\n",
              "      <td>401K Savings</td>\n",
              "      <td>1.986874e+07</td>\n",
              "    </tr>\n",
              "  </tbody>\n",
              "</table>\n",
              "</div>\n",
              "      <button class=\"colab-df-convert\" onclick=\"convertToInteractive('df-0bab8da4-c97b-4c15-a4bb-ae611cff77d4')\"\n",
              "              title=\"Convert this dataframe to an interactive table.\"\n",
              "              style=\"display:none;\">\n",
              "        \n",
              "  <svg xmlns=\"http://www.w3.org/2000/svg\" height=\"24px\"viewBox=\"0 0 24 24\"\n",
              "       width=\"24px\">\n",
              "    <path d=\"M0 0h24v24H0V0z\" fill=\"none\"/>\n",
              "    <path d=\"M18.56 5.44l.94 2.06.94-2.06 2.06-.94-2.06-.94-.94-2.06-.94 2.06-2.06.94zm-11 1L8.5 8.5l.94-2.06 2.06-.94-2.06-.94L8.5 2.5l-.94 2.06-2.06.94zm10 10l.94 2.06.94-2.06 2.06-.94-2.06-.94-.94-2.06-.94 2.06-2.06.94z\"/><path d=\"M17.41 7.96l-1.37-1.37c-.4-.4-.92-.59-1.43-.59-.52 0-1.04.2-1.43.59L10.3 9.45l-7.72 7.72c-.78.78-.78 2.05 0 2.83L4 21.41c.39.39.9.59 1.41.59.51 0 1.02-.2 1.41-.59l7.78-7.78 2.81-2.81c.8-.78.8-2.07 0-2.86zM5.41 20L4 18.59l7.72-7.72 1.47 1.35L5.41 20z\"/>\n",
              "  </svg>\n",
              "      </button>\n",
              "      \n",
              "  <style>\n",
              "    .colab-df-container {\n",
              "      display:flex;\n",
              "      flex-wrap:wrap;\n",
              "      gap: 12px;\n",
              "    }\n",
              "\n",
              "    .colab-df-convert {\n",
              "      background-color: #E8F0FE;\n",
              "      border: none;\n",
              "      border-radius: 50%;\n",
              "      cursor: pointer;\n",
              "      display: none;\n",
              "      fill: #1967D2;\n",
              "      height: 32px;\n",
              "      padding: 0 0 0 0;\n",
              "      width: 32px;\n",
              "    }\n",
              "\n",
              "    .colab-df-convert:hover {\n",
              "      background-color: #E2EBFA;\n",
              "      box-shadow: 0px 1px 2px rgba(60, 64, 67, 0.3), 0px 1px 3px 1px rgba(60, 64, 67, 0.15);\n",
              "      fill: #174EA6;\n",
              "    }\n",
              "\n",
              "    [theme=dark] .colab-df-convert {\n",
              "      background-color: #3B4455;\n",
              "      fill: #D2E3FC;\n",
              "    }\n",
              "\n",
              "    [theme=dark] .colab-df-convert:hover {\n",
              "      background-color: #434B5C;\n",
              "      box-shadow: 0px 1px 3px 1px rgba(0, 0, 0, 0.15);\n",
              "      filter: drop-shadow(0px 1px 2px rgba(0, 0, 0, 0.3));\n",
              "      fill: #FFFFFF;\n",
              "    }\n",
              "  </style>\n",
              "\n",
              "      <script>\n",
              "        const buttonEl =\n",
              "          document.querySelector('#df-0bab8da4-c97b-4c15-a4bb-ae611cff77d4 button.colab-df-convert');\n",
              "        buttonEl.style.display =\n",
              "          google.colab.kernel.accessAllowed ? 'block' : 'none';\n",
              "\n",
              "        async function convertToInteractive(key) {\n",
              "          const element = document.querySelector('#df-0bab8da4-c97b-4c15-a4bb-ae611cff77d4');\n",
              "          const dataTable =\n",
              "            await google.colab.kernel.invokeFunction('convertToInteractive',\n",
              "                                                     [key], {});\n",
              "          if (!dataTable) return;\n",
              "\n",
              "          const docLinkHtml = 'Like what you see? Visit the ' +\n",
              "            '<a target=\"_blank\" href=https://colab.research.google.com/notebooks/data_table.ipynb>data table notebook</a>'\n",
              "            + ' to learn more about interactive tables.';\n",
              "          element.innerHTML = '';\n",
              "          dataTable['output_type'] = 'display_data';\n",
              "          await google.colab.output.renderOutput(dataTable, element);\n",
              "          const docLink = document.createElement('div');\n",
              "          docLink.innerHTML = docLinkHtml;\n",
              "          element.appendChild(docLink);\n",
              "        }\n",
              "      </script>\n",
              "    </div>\n",
              "  </div>\n",
              "  "
            ]
          },
          "metadata": {},
          "execution_count": 24
        }
      ]
    },
    {
      "cell_type": "code",
      "source": [
        "from sklearn.ensemble import ExtraTreesClassifier\n",
        "import matplotlib.pyplot as plt\n",
        "\n",
        "model=ExtraTreesClassifier()\n",
        "model.fit(X,y)\n",
        "\n",
        "print(model.feature_importances_)"
      ],
      "metadata": {
        "colab": {
          "base_uri": "https://localhost:8080/"
        },
        "id": "EqL1G5XqaxVl",
        "outputId": "4aebd05d-bef8-4152-8588-0a9b657d952b"
      },
      "execution_count": null,
      "outputs": [
        {
          "output_type": "stream",
          "name": "stdout",
          "text": [
            "[0.4574847 0.5425153]\n"
          ]
        }
      ]
    },
    {
      "cell_type": "code",
      "source": [
        "ranked_features = pd.Series(model.feature_importances_, index = X.columns)"
      ],
      "metadata": {
        "id": "SJfPYLj4a3Fd"
      },
      "execution_count": null,
      "outputs": []
    },
    {
      "cell_type": "code",
      "source": [
        "ranked_features"
      ],
      "metadata": {
        "colab": {
          "base_uri": "https://localhost:8080/"
        },
        "id": "niGz4Rrda6Uk",
        "outputId": "9d6d4d06-99b0-47dd-f11e-b8a5d07b71cd"
      },
      "execution_count": null,
      "outputs": [
        {
          "output_type": "execute_result",
          "data": {
            "text/plain": [
              "Age             0.457485\n",
              "401K Savings    0.542515\n",
              "dtype: float64"
            ]
          },
          "metadata": {},
          "execution_count": 27
        }
      ]
    },
    {
      "cell_type": "code",
      "source": [
        "plt.figure(figsize = (5,3))\n",
        "ranked_features.nlargest(2).plot(kind='barh', color='orange')\n",
        "plt.show()"
      ],
      "metadata": {
        "colab": {
          "base_uri": "https://localhost:8080/",
          "height": 211
        },
        "id": "TX8KX42pa8Ur",
        "outputId": "22a06a10-5f7f-4016-fdbd-453011cbccbc"
      },
      "execution_count": null,
      "outputs": [
        {
          "output_type": "display_data",
          "data": {
            "text/plain": [
              "<Figure size 360x216 with 1 Axes>"
            ],
            "image/png": "[encoded data removed]"
          },
          "metadata": {
            "needs_background": "light"
          }
        }
      ]
    },
    {
      "cell_type": "code",
      "source": [
        "from sklearn.model_selection import train_test_split\n",
        "X_train, X_test, y_train, y_test = train_test_split(X, y, test_size=0.2, random_state=1234)"
      ],
      "metadata": {
        "id": "EGlGJO5qbErw"
      },
      "execution_count": null,
      "outputs": []
    },
    {
      "cell_type": "code",
      "source": [
        "X_train.shape, y_train.shape, X_test.shape, y_test.shape"
      ],
      "metadata": {
        "colab": {
          "base_uri": "https://localhost:8080/"
        },
        "id": "LovVEKttbIrt",
        "outputId": "ac99d6df-035a-40f8-8829-04e3b463d608"
      },
      "execution_count": null,
      "outputs": [
        {
          "output_type": "execute_result",
          "data": {
            "text/plain": [
              "((400, 2), (400,), (100, 2), (100,))"
            ]
          },
          "metadata": {},
          "execution_count": 30
        }
      ]
    },
    {
      "cell_type": "code",
      "source": [
        "from sklearn.preprocessing import StandardScaler\n",
        "sc = StandardScaler()\n",
        "X_train_scaled = sc.fit_transform(X_train)\n",
        "X_test_scaled = sc.transform(X_test)"
      ],
      "metadata": {
        "id": "UzUTiXhZbLLp"
      },
      "execution_count": null,
      "outputs": []
    },
    {
      "cell_type": "code",
      "source": [
        "X_train_scaled"
      ],
      "metadata": {
        "colab": {
          "base_uri": "https://localhost:8080/"
        },
        "id": "CuGTcGv6bOFq",
        "outputId": "a1a84e0c-e63b-4f5a-b64c-804bb4b10db7"
      },
      "execution_count": null,
      "outputs": [
        {
          "output_type": "execute_result",
          "data": {
            "text/plain": [
              "array([[-1.24555452e-01,  6.67641887e-01],\n",
              "       [ 1.66857160e+00, -1.19776241e-01],\n",
              "       [-9.32875578e-01, -1.14085441e+00],\n",
              "       [-9.09142731e-01, -1.36191099e+00],\n",
              "       [-1.32997367e+00, -1.39002411e+00],\n",
              "       [ 7.37320027e-01, -5.63922079e-01],\n",
              "       [-3.01672849e-01, -5.29478895e-01],\n",
              "       [-2.61433970e+00, -1.20679612e+00],\n",
              "       [-5.34125514e-01, -1.82096020e+00],\n",
              "       [-1.59195409e+00, -1.57125472e+00],\n",
              "       [-1.29095074e+00, -3.63742654e-01],\n",
              "       [ 5.19792692e-01,  4.64935568e-01],\n",
              "       [ 9.84924296e-01,  7.35878789e-01],\n",
              "       [ 1.20337464e+00,  6.89844011e-01],\n",
              "       [ 1.52590898e+00,  2.06907421e-01],\n",
              "       [ 1.71902611e-02,  8.91742707e-01],\n",
              "       [ 2.27511678e-01,  2.10776248e-01],\n",
              "       [ 2.48172201e-01,  2.04589736e+00],\n",
              "       [-1.88763704e+00, -1.51402085e+00],\n",
              "       [-2.52247876e-01, -3.13978358e-01],\n",
              "       [-1.41719258e+00, -1.74139454e+00],\n",
              "       [ 2.30103341e-01,  1.33677595e+00],\n",
              "       [-3.23410469e-01,  1.01032000e+00],\n",
              "       [-3.66199743e-01,  1.73968223e-01],\n",
              "       [-3.49550059e-01, -9.66658857e-01],\n",
              "       [-1.08276929e+00, -9.70973059e-01],\n",
              "       [-6.60177425e-01, -1.49611006e-01],\n",
              "       [-1.90128118e-01,  4.26890844e-01],\n",
              "       [ 1.65675912e+00,  1.09236674e+00],\n",
              "       [-1.06872350e+00, -1.81892827e-01],\n",
              "       [-1.10639173e-01,  1.24528846e+00],\n",
              "       [ 2.10839567e-02,  4.45607336e-01],\n",
              "       [ 1.54248126e-01,  9.14271361e-03],\n",
              "       [ 3.05845698e-01, -1.99525214e+00],\n",
              "       [-6.06961233e-01, -1.17157364e+00],\n",
              "       [ 2.70730683e-01,  1.21698111e+00],\n",
              "       [-2.31160466e-01,  2.14117711e-01],\n",
              "       [-2.06260605e-01,  2.44704764e+00],\n",
              "       [-1.17587169e+00, -4.73434299e-01],\n",
              "       [ 2.04064263e-01, -1.10824502e+00],\n",
              "       [ 4.92238358e-01, -1.40333755e-02],\n",
              "       [-5.78588975e-01, -1.46436993e+00],\n",
              "       [ 7.85562353e-01,  4.92269491e-01],\n",
              "       [ 2.95990792e-01, -2.60241754e-01],\n",
              "       [ 1.92856308e+00,  1.86933570e-01],\n",
              "       [ 1.01283169e+00,  8.62109379e-01],\n",
              "       [-3.90207829e-01,  3.25537784e-01],\n",
              "       [ 2.34778664e-01,  9.05772394e-01],\n",
              "       [-3.68623128e-01, -4.96729840e-01],\n",
              "       [ 9.85434202e-01,  1.63758023e+00],\n",
              "       [ 9.56494442e-01,  1.94989679e+00],\n",
              "       [ 1.76421939e+00,  9.96673578e-01],\n",
              "       [-3.57406676e-01, -1.03562110e+00],\n",
              "       [ 5.12571867e-01,  1.08654995e+00],\n",
              "       [ 9.62441096e-02, -1.19118187e+00],\n",
              "       [-1.03567202e+00, -7.37488363e-01],\n",
              "       [-6.11415237e-01,  7.13297372e-01],\n",
              "       [ 2.12425488e-01, -1.25235928e+00],\n",
              "       [-8.44047927e-01, -3.58061982e-01],\n",
              "       [-1.61348109e+00,  9.59159827e-02],\n",
              "       [ 1.01077631e+00,  6.32540693e-01],\n",
              "       [-5.91045793e-01, -1.17706218e+00],\n",
              "       [ 1.39238877e+00,  2.32735900e-01],\n",
              "       [ 1.97590818e+00,  2.36236316e+00],\n",
              "       [-1.12363973e-01, -9.31515984e-01],\n",
              "       [ 7.25249783e-01, -1.90369411e-01],\n",
              "       [ 7.20331090e-01,  3.09535853e-01],\n",
              "       [-6.06051467e-01, -6.10022619e-01],\n",
              "       [-1.09492103e+00, -2.62710602e-01],\n",
              "       [-1.09378894e+00, -1.51894355e+00],\n",
              "       [-5.02503477e-03,  1.63843214e-01],\n",
              "       [ 3.70724648e-02,  9.02831462e-01],\n",
              "       [ 1.12173369e+00,  2.13146823e+00],\n",
              "       [ 9.75184822e-01,  4.35852301e-01],\n",
              "       [-1.24525913e+00, -1.97381819e-01],\n",
              "       [-9.87600653e-02, -3.70300358e-01],\n",
              "       [ 2.93051113e-01, -1.34223771e+00],\n",
              "       [ 2.11574229e-01, -3.22593391e-01],\n",
              "       [ 1.35258746e+00,  2.07312283e+00],\n",
              "       [-2.09281395e-01, -2.44549275e-01],\n",
              "       [ 1.72922546e-01,  9.99461837e-01],\n",
              "       [-1.17682487e+00, -1.35953259e+00],\n",
              "       [-4.71730853e-01,  1.20986311e+00],\n",
              "       [ 9.28242016e-01,  1.36535313e+00],\n",
              "       [ 2.30123902e+00,  3.45496352e-01],\n",
              "       [ 7.02493582e-01,  8.23037279e-01],\n",
              "       [ 1.50619101e+00,  9.73539470e-01],\n",
              "       [ 4.21488123e-01,  9.05570339e-01],\n",
              "       [-1.56370099e+00, -5.16781228e-01],\n",
              "       [ 1.46952954e+00,  5.11160960e-01],\n",
              "       [ 2.48778888e-01,  1.43278233e-01],\n",
              "       [ 3.85217352e-01,  1.81567449e+00],\n",
              "       [-1.54752058e+00, -1.87123492e+00],\n",
              "       [-7.03835893e-01, -6.80000239e-01],\n",
              "       [ 2.09764103e+00,  1.26026023e+00],\n",
              "       [-2.04439207e-01,  6.96989914e-01],\n",
              "       [-9.30524557e-02, -2.16603238e-01],\n",
              "       [ 2.18716294e+00,  9.64459175e-01],\n",
              "       [ 5.75882795e-01,  2.10476335e+00],\n",
              "       [-5.83348774e-01, -1.38817274e-01],\n",
              "       [ 8.85229812e-01,  1.01844685e+00],\n",
              "       [-6.21269333e-01, -5.17208026e-01],\n",
              "       [ 1.86865576e+00, -4.17309278e-01],\n",
              "       [ 4.83829443e-01, -5.47678304e-01],\n",
              "       [ 2.07456502e+00, -2.04743337e-01],\n",
              "       [-1.86964191e+00,  5.71904028e-02],\n",
              "       [ 8.28869936e-01,  9.34157873e-01],\n",
              "       [-1.10690333e+00, -1.16056104e+00],\n",
              "       [ 4.93960019e-01,  8.06580138e-01],\n",
              "       [-1.71755443e-01,  6.51717204e-01],\n",
              "       [ 2.68528962e-01,  7.70778899e-01],\n",
              "       [-5.55090248e-01, -1.06571071e+00],\n",
              "       [ 7.20945080e-03,  4.79530629e-01],\n",
              "       [-4.25313503e-01, -9.77340960e-01],\n",
              "       [-8.83091519e-01,  2.23284919e-01],\n",
              "       [-9.20022683e-01, -7.89671043e-01],\n",
              "       [ 6.81326357e-01,  7.09032842e-01],\n",
              "       [-5.06245955e-01, -7.38321890e-01],\n",
              "       [ 6.73257367e-02,  7.41611239e-01],\n",
              "       [-1.54787576e+00, -7.11498989e-02],\n",
              "       [-1.64461608e+00, -1.47966864e+00],\n",
              "       [ 5.19997717e-01,  4.05815747e-01],\n",
              "       [ 9.01234372e-01,  1.35960433e+00],\n",
              "       [ 6.27328882e-01,  1.16128288e+00],\n",
              "       [-3.79820426e-01, -2.84869763e-01],\n",
              "       [ 1.32020377e+00,  1.67749904e+00],\n",
              "       [ 8.65370542e-01,  1.19513441e+00],\n",
              "       [-1.18603505e+00, -9.44084459e-01],\n",
              "       [-8.63237577e-01, -1.64835205e+00],\n",
              "       [ 9.02516201e-01,  9.06715142e-01],\n",
              "       [ 1.69325597e+00,  1.44201084e+00],\n",
              "       [-1.54063107e+00,  7.82188838e-03],\n",
              "       [-1.46659003e+00, -3.17554448e-01],\n",
              "       [-6.78242949e-01, -8.93469335e-01],\n",
              "       [ 9.08795123e-01,  7.49079706e-01],\n",
              "       [-7.71232005e-01, -7.44598024e-01],\n",
              "       [ 4.88337517e-01,  1.33651052e+00],\n",
              "       [-6.61591305e-01, -9.93694676e-01],\n",
              "       [-1.94287388e+00, -7.89562555e-01],\n",
              "       [ 1.72996735e+00,  4.91077610e-01],\n",
              "       [ 2.24987995e+00,  3.10782331e-01],\n",
              "       [-1.09493364e-01,  7.88596035e-01],\n",
              "       [-6.28618369e-01, -8.25486076e-01],\n",
              "       [ 8.93540577e-01,  1.02999501e+00],\n",
              "       [-9.07768107e-01, -7.63137709e-01],\n",
              "       [ 1.46872559e+00,  1.03890697e+00],\n",
              "       [-1.35928429e+00, -2.63086377e-01],\n",
              "       [-5.07413678e-01, -7.35701796e-01],\n",
              "       [ 6.59700439e-01,  3.06196629e-01],\n",
              "       [-3.39526598e-01, -9.23186930e-03],\n",
              "       [-6.36213278e-01,  2.80632158e-02],\n",
              "       [ 9.81777645e-01, -8.15409721e-02],\n",
              "       [ 2.18494147e+00,  7.05494595e-01],\n",
              "       [-4.12992823e-01,  1.54068805e+00],\n",
              "       [-8.31618463e-01, -1.00300588e+00],\n",
              "       [-6.59415658e-01, -4.92420354e-01],\n",
              "       [ 9.82019036e-02, -9.42910626e-01],\n",
              "       [-6.06499315e-01, -1.23334642e+00],\n",
              "       [-1.41676379e-01, -9.28607896e-01],\n",
              "       [ 2.88108965e-01, -2.35283573e-03],\n",
              "       [ 1.33356551e+00,  2.99219442e-01],\n",
              "       [ 7.07563719e-01,  9.11482449e-01],\n",
              "       [ 1.77675985e-02,  2.10587541e-01],\n",
              "       [ 1.18511758e+00,  1.05312198e+00],\n",
              "       [ 5.01448692e-01,  1.09482417e+00],\n",
              "       [-1.05846080e-01, -6.07045820e-01],\n",
              "       [ 8.57426270e-01,  8.40318786e-01],\n",
              "       [-1.14501768e+00, -3.60985571e-01],\n",
              "       [-7.13561809e-01, -8.56742875e-01],\n",
              "       [-1.17816339e+00, -4.39659960e-01],\n",
              "       [ 1.38386099e+00,  8.88989202e-01],\n",
              "       [ 8.16094657e-01,  2.80224853e-01],\n",
              "       [ 1.28923717e+00,  1.08518963e+00],\n",
              "       [ 1.04099241e+00,  4.24086962e-01],\n",
              "       [ 1.19889466e-02, -3.80105442e-01],\n",
              "       [-1.35633808e+00, -6.47768853e-01],\n",
              "       [ 6.59236790e-01, -5.12574673e-03],\n",
              "       [-7.27865742e-02,  3.99198279e-01],\n",
              "       [-1.04491529e+00, -8.09625503e-02],\n",
              "       [ 7.64566741e-02, -1.66383251e-01],\n",
              "       [-1.99925303e-01,  7.78745858e-01],\n",
              "       [ 8.08017250e-01,  1.82940733e+00],\n",
              "       [-1.18789261e+00, -1.50708286e+00],\n",
              "       [-2.01041543e-01, -1.08302776e-01],\n",
              "       [ 6.28706308e-01,  8.70543267e-01],\n",
              "       [ 2.88047356e-01,  7.50111934e-01],\n",
              "       [-7.47668227e-01, -7.21425767e-01],\n",
              "       [-8.09630349e-01, -7.10076674e-01],\n",
              "       [-5.26922784e-01, -6.56873542e-02],\n",
              "       [ 1.27051711e+00,  1.42961394e+00],\n",
              "       [-8.42195550e-02, -1.46874704e+00],\n",
              "       [-2.28364583e-01, -2.85648353e+00],\n",
              "       [ 1.88353330e+00,  9.31245620e-01],\n",
              "       [ 1.02230054e-02,  5.49851910e-01],\n",
              "       [-8.77102464e-01, -1.09918648e+00],\n",
              "       [ 1.20088370e+00,  1.86167508e-01],\n",
              "       [ 7.94034813e-01,  2.33197290e+00],\n",
              "       [ 4.49680126e-01,  6.84323966e-01],\n",
              "       [-9.03619575e-02, -1.42491603e-02],\n",
              "       [ 1.08809032e+00,  1.24176653e+00],\n",
              "       [-2.39871223e-01,  7.64777951e-01],\n",
              "       [ 1.19301124e+00,  5.75967540e-01],\n",
              "       [-1.53945904e+00, -1.13835797e+00],\n",
              "       [-4.58486270e-01, -9.16366585e-01],\n",
              "       [ 1.46759416e+00, -5.26057670e-02],\n",
              "       [ 1.17152137e-02,  1.19729187e+00],\n",
              "       [ 5.10259883e-01,  4.83575211e-01],\n",
              "       [-1.95795285e+00, -1.37939428e+00],\n",
              "       [ 3.20366833e-01,  6.89149771e-01],\n",
              "       [ 2.11870671e-01,  9.84840626e-01],\n",
              "       [ 1.03773211e-01,  1.73465356e+00],\n",
              "       [-1.25707086e+00, -2.17237829e+00],\n",
              "       [-1.33908504e+00, -6.74696021e-01],\n",
              "       [-1.24328714e+00, -2.56853018e-01],\n",
              "       [-7.23642178e-01, -1.96402490e+00],\n",
              "       [-2.93658218e-01, -2.87013508e-01],\n",
              "       [-3.55395950e-02,  6.16969818e-01],\n",
              "       [-1.25274345e+00, -5.99096740e-01],\n",
              "       [ 5.94281755e-01, -8.57019396e-01],\n",
              "       [ 3.70897044e-01,  1.13233685e+00],\n",
              "       [ 1.19748099e+00,  3.59157252e-01],\n",
              "       [ 8.68934030e-02,  1.00602619e+00],\n",
              "       [-2.59828891e-01, -5.71743054e-02],\n",
              "       [-1.07165870e-01,  1.72124353e+00],\n",
              "       [-1.48033360e+00, -9.98278237e-01],\n",
              "       [-9.66816350e-01, -1.84945651e-01],\n",
              "       [ 1.10382722e+00,  6.60782626e-01],\n",
              "       [-1.03171117e+00, -1.48082622e+00],\n",
              "       [-8.72865054e-01, -6.92905488e-01],\n",
              "       [ 2.27395822e-01, -8.59542455e-01],\n",
              "       [ 4.36576064e-02,  1.03786045e+00],\n",
              "       [-3.60764486e-01, -1.45619148e+00],\n",
              "       [-1.86477383e+00, -1.14893480e-01],\n",
              "       [ 7.94460403e-01,  1.08759376e+00],\n",
              "       [ 5.52621180e-01,  5.48695758e-01],\n",
              "       [-6.62756217e-01,  5.07028244e-01],\n",
              "       [-1.85619761e-01,  2.46588611e+00],\n",
              "       [-1.20059607e+00, -1.78122717e+00],\n",
              "       [-5.52575300e-01, -1.00995745e+00],\n",
              "       [ 7.30784536e-01,  9.60879584e-01],\n",
              "       [-1.19528063e+00, -1.01929580e+00],\n",
              "       [-1.99589884e+00, -4.10391609e-01],\n",
              "       [ 2.77109866e-01,  2.19543052e+00],\n",
              "       [ 1.43442667e+00,  6.62898854e-01],\n",
              "       [ 5.71407111e-01,  1.42365474e-01],\n",
              "       [ 1.32663485e+00,  1.32028349e+00],\n",
              "       [ 4.86714650e-01,  1.01926620e+00],\n",
              "       [-5.84616547e-01, -2.19192047e-01],\n",
              "       [-6.64213431e-01,  5.17920430e-03],\n",
              "       [ 1.32803706e+00,  1.51586276e+00],\n",
              "       [-8.15957256e-01, -2.27489368e+00],\n",
              "       [ 1.35757871e+00,  2.76057393e-01],\n",
              "       [ 2.77745053e-01,  1.64614555e-01],\n",
              "       [ 1.22588169e+00,  8.78026581e-01],\n",
              "       [-8.86499588e-01, -1.90999383e+00],\n",
              "       [-1.71466955e-01, -3.48390541e-03],\n",
              "       [ 6.15991087e-01, -2.22303277e-02],\n",
              "       [-5.56909969e-01,  1.74044617e-01],\n",
              "       [ 6.55971931e-01, -4.04531561e-02],\n",
              "       [-1.46826446e-01,  4.73270970e-01],\n",
              "       [-6.83102358e-01, -9.08509153e-01],\n",
              "       [ 4.07610392e-01, -1.16859712e+00],\n",
              "       [ 1.24040069e+00, -2.64089592e-02],\n",
              "       [-2.50121413e+00, -1.34278706e+00],\n",
              "       [-5.75931287e-01, -1.88357028e+00],\n",
              "       [ 7.84866686e-02, -4.66874943e-01],\n",
              "       [-3.95663227e-01, -1.72080231e+00],\n",
              "       [-1.30326704e+00, -3.39313191e-01],\n",
              "       [ 1.18170750e+00,  1.33559810e+00],\n",
              "       [-2.11910789e-01, -6.40933137e-01],\n",
              "       [-1.07733007e+00, -8.18946314e-01],\n",
              "       [-4.89407508e-01, -1.92299188e+00],\n",
              "       [-8.61472088e-01, -4.97674095e-01],\n",
              "       [ 2.83839144e-01,  4.65720858e-01],\n",
              "       [-9.81292583e-01, -1.17246243e+00],\n",
              "       [ 1.54383064e+00,  1.08249277e+00],\n",
              "       [ 1.13727998e-01, -1.18197307e+00],\n",
              "       [ 1.21128816e+00,  1.23465841e+00],\n",
              "       [-6.64816031e-01,  1.73901018e-01],\n",
              "       [ 1.84092774e+00, -4.00507527e-01],\n",
              "       [ 5.61051317e-01, -1.66182101e+00],\n",
              "       [ 1.37631944e+00, -2.69471203e-01],\n",
              "       [ 1.84289181e+00, -6.66348341e-01],\n",
              "       [ 1.32951879e+00, -1.59293530e+00],\n",
              "       [ 1.33410439e+00,  7.01245651e-01],\n",
              "       [-3.83165646e-01, -1.03459524e+00],\n",
              "       [ 1.11883177e-01, -4.19376940e-01],\n",
              "       [-1.87962773e+00, -5.62776405e-01],\n",
              "       [ 1.26859673e+00,  8.98112553e-01],\n",
              "       [-1.46834389e-01, -1.12460246e+00],\n",
              "       [ 2.88727463e-01, -1.28844363e+00],\n",
              "       [-3.61485814e-01,  8.41567538e-01],\n",
              "       [ 9.43160295e-01, -2.41067082e-01],\n",
              "       [-8.65577255e-01, -1.34100356e-01],\n",
              "       [ 4.07204025e-01, -5.32681721e-01],\n",
              "       [-4.08716235e-01,  5.64621246e-01],\n",
              "       [ 4.52854870e-01,  5.40594899e-01],\n",
              "       [-3.84760242e-01, -1.07025806e+00],\n",
              "       [-1.73684678e+00, -8.72188538e-01],\n",
              "       [ 9.51999319e-01,  1.01815766e+00],\n",
              "       [ 5.06325220e-01,  9.13026333e-01],\n",
              "       [-1.86432043e-01, -1.39328406e+00],\n",
              "       [-1.83205990e-01, -1.45836693e+00],\n",
              "       [ 4.58931831e-01, -6.05831959e-02],\n",
              "       [ 1.03732705e+00,  8.23576813e-01],\n",
              "       [-5.90182255e-01, -3.35972162e-01],\n",
              "       [-1.60309444e+00, -1.40453577e+00],\n",
              "       [ 3.80478511e-01,  5.67819857e-01],\n",
              "       [-1.54448844e+00, -1.19153573e+00],\n",
              "       [-9.65198103e-01, -8.16685425e-01],\n",
              "       [-3.02965855e-01,  5.33458250e-01],\n",
              "       [-6.83408358e-01,  1.60331627e-01],\n",
              "       [ 4.24228912e-01, -5.89660842e-01],\n",
              "       [ 6.76992315e-01,  1.05119023e+00],\n",
              "       [ 6.92057621e-01,  1.14807177e+00],\n",
              "       [-1.55548912e+00,  2.61208601e-01],\n",
              "       [ 1.04404867e-01, -9.03455278e-02],\n",
              "       [-8.33041830e-03, -9.67506694e-01],\n",
              "       [ 1.83996647e-01, -9.56770795e-01],\n",
              "       [ 9.86986328e-01,  1.42669405e+00],\n",
              "       [ 3.43943377e-02, -1.18875795e+00],\n",
              "       [ 1.30828694e+00,  4.18968252e-01],\n",
              "       [-9.52973180e-02, -2.57682846e-01],\n",
              "       [ 1.30690004e+00,  1.46124360e+00],\n",
              "       [-1.00761553e+00, -2.41577123e-01],\n",
              "       [-3.25300999e-01,  1.30443574e+00],\n",
              "       [ 1.13910005e+00,  5.75049549e-01],\n",
              "       [ 1.91508825e-01,  9.65038574e-01],\n",
              "       [-9.36101855e-01,  2.52252310e-01],\n",
              "       [-1.32092251e-01, -1.81085566e+00],\n",
              "       [-4.27719879e-01, -3.25694021e-01],\n",
              "       [ 5.33702941e-01,  1.17637288e+00],\n",
              "       [ 5.73572421e-01,  3.04796984e-01],\n",
              "       [-5.27277701e-01, -1.40953241e+00],\n",
              "       [ 2.16627260e-02,  6.19780398e-01],\n",
              "       [ 1.35630918e+00,  1.23885022e+00],\n",
              "       [-1.92924709e+00, -1.16916032e+00],\n",
              "       [ 2.82759214e+00,  1.42314881e+00],\n",
              "       [ 2.07693576e+00,  1.30969669e+00],\n",
              "       [-1.86286117e+00, -4.86350122e-01],\n",
              "       [ 1.97216342e+00,  8.45652435e-01],\n",
              "       [-1.04693642e+00, -3.72992091e-01],\n",
              "       [ 4.80223229e-01,  1.85429130e+00],\n",
              "       [ 4.15887943e-01, -4.10798347e-01],\n",
              "       [ 1.30764775e+00,  7.29763928e-01],\n",
              "       [ 6.26882034e-01,  9.43627660e-01],\n",
              "       [ 6.96652808e-01,  6.64329941e-01],\n",
              "       [ 2.05147045e-01,  4.46223260e-04],\n",
              "       [ 7.72831979e-03, -8.00262342e-01],\n",
              "       [ 2.06796746e+00,  1.24795760e+00],\n",
              "       [ 2.59535240e-01,  8.69989754e-01],\n",
              "       [-4.16318593e-02, -4.58714406e-01],\n",
              "       [-1.06794898e+00, -1.99372214e-02],\n",
              "       [ 4.28668606e-01,  1.43209092e-01],\n",
              "       [ 1.74890030e-01,  2.49449171e-01],\n",
              "       [-6.06982065e-02,  8.98017349e-01],\n",
              "       [-3.58741386e-01, -2.26261982e-01],\n",
              "       [ 1.73911472e+00, -1.70845673e-04],\n",
              "       [-1.05847869e+00, -1.01499730e+00],\n",
              "       [ 1.68281833e-01, -8.95357560e-01],\n",
              "       [ 9.56581956e-01,  2.75106143e-01],\n",
              "       [-2.86369104e-01, -9.20224868e-01],\n",
              "       [-2.28042869e-01, -6.56714576e-01],\n",
              "       [-1.30980557e+00, -6.78144817e-01],\n",
              "       [-4.16969274e-01, -7.91885594e-01],\n",
              "       [-7.11199356e-01, -9.48084422e-02],\n",
              "       [-2.72973473e+00, -5.65901686e-01],\n",
              "       [-1.06165989e+00, -8.11931622e-01],\n",
              "       [-7.01478036e-01, -6.46008726e-01],\n",
              "       [ 1.19304493e+00, -1.00187932e+00],\n",
              "       [ 9.93628516e-01,  4.36402600e-01],\n",
              "       [-1.03533276e+00, -1.92752727e-01],\n",
              "       [-1.60262998e-01, -3.60175771e-01],\n",
              "       [-9.52346815e-01, -1.25379570e+00],\n",
              "       [-3.27290760e-01, -1.01660098e+00],\n",
              "       [-1.81534331e+00, -1.92371948e+00],\n",
              "       [-7.52005397e-01, -8.23307418e-01],\n",
              "       [ 2.95913617e-01,  7.15773093e-01],\n",
              "       [-1.87214927e+00, -2.06909419e-01],\n",
              "       [-1.05803254e+00,  5.39565622e-01],\n",
              "       [ 1.03268652e+00,  1.58817351e+00],\n",
              "       [ 2.03129900e+00,  2.12525936e+00],\n",
              "       [-2.93573395e-01,  1.35646192e+00],\n",
              "       [-9.56171908e-01, -5.86514305e-01],\n",
              "       [ 1.63175848e+00,  1.57761361e+00],\n",
              "       [-3.23162839e-01,  1.16469853e+00],\n",
              "       [ 9.02997957e-01,  1.23442826e+00],\n",
              "       [-1.23692838e+00,  9.50332014e-02],\n",
              "       [ 5.30559917e-01,  1.52829579e+00],\n",
              "       [-1.50615089e+00, -8.65271438e-01],\n",
              "       [-5.37320358e-01, -4.00004404e-02],\n",
              "       [-6.47401865e-01, -8.54409052e-01],\n",
              "       [-6.15853731e-01, -1.82530976e+00],\n",
              "       [-4.97132134e-02, -1.47126090e+00],\n",
              "       [-5.59059507e-01, -9.93504231e-01],\n",
              "       [-2.09833358e+00, -1.09278194e+00],\n",
              "       [-1.23104562e+00, -1.39897492e+00],\n",
              "       [-1.30844708e+00, -9.85033133e-01],\n",
              "       [ 5.06523207e-01,  1.14382613e+00],\n",
              "       [ 2.04417146e-01,  1.14228802e-01]])"
            ]
          },
          "metadata": {},
          "execution_count": 32
        }
      ]
    },
    {
      "cell_type": "code",
      "source": [
        "X_test_scaled"
      ],
      "metadata": {
        "colab": {
          "base_uri": "https://localhost:8080/"
        },
        "id": "nQX0GfLvbRpJ",
        "outputId": "07d6e184-1989-48a8-8f6f-81d546bd206c"
      },
      "execution_count": null,
      "outputs": [
        {
          "output_type": "execute_result",
          "data": {
            "text/plain": [
              "array([[ 8.37874463e-01,  1.00104817e-01],\n",
              "       [ 6.16094365e-01,  1.86916108e+00],\n",
              "       [-1.35696165e+00, -8.46210917e-01],\n",
              "       [ 8.68737278e-01, -9.75320841e-01],\n",
              "       [ 1.22852810e-01,  2.36297425e-01],\n",
              "       [ 1.02355400e+00,  1.15710680e-02],\n",
              "       [-1.40266511e+00, -1.59673436e+00],\n",
              "       [ 1.19941409e+00,  1.67127280e+00],\n",
              "       [ 1.87388372e-01,  1.18826762e+00],\n",
              "       [ 1.17164170e+00,  6.15455998e-01],\n",
              "       [ 2.54747985e-01, -9.26278170e-01],\n",
              "       [ 1.70845281e+00,  1.01617269e+00],\n",
              "       [ 2.98436737e-02,  5.78308227e-01],\n",
              "       [-6.92372082e-01, -1.25849064e+00],\n",
              "       [-9.21879769e-01, -8.43967768e-01],\n",
              "       [-8.71651954e-01, -3.58642393e-01],\n",
              "       [ 8.50008430e-01,  4.69775704e-01],\n",
              "       [-1.12106107e+00, -1.23292003e+00],\n",
              "       [-8.34407738e-02, -1.31333352e+00],\n",
              "       [ 6.75447923e-01,  3.24027736e-01],\n",
              "       [ 1.09187563e+00, -1.53145854e-02],\n",
              "       [ 2.80633263e-02,  1.33557378e+00],\n",
              "       [ 3.37708810e-01,  6.30510968e-01],\n",
              "       [ 1.99310999e-01, -1.65716056e+00],\n",
              "       [ 7.47189229e-02, -8.44142282e-01],\n",
              "       [-4.79999436e-01, -8.49758482e-01],\n",
              "       [ 8.05396046e-01, -4.59334174e-01],\n",
              "       [-1.74506873e-01, -5.98907263e-01],\n",
              "       [-4.02216626e-01, -6.80649761e-01],\n",
              "       [-1.28797787e+00, -1.21317590e+00],\n",
              "       [ 9.03751466e-01,  1.70484665e+00],\n",
              "       [-2.84110354e-01,  4.48309177e-01],\n",
              "       [-1.08629264e+00, -5.68947876e-01],\n",
              "       [-1.65956048e+00, -1.56129518e+00],\n",
              "       [-4.71781367e-01, -1.39478474e+00],\n",
              "       [-3.99156983e-01, -1.38889579e+00],\n",
              "       [-7.77888982e-01, -5.19596479e-01],\n",
              "       [ 1.12029337e+00, -5.99693419e-01],\n",
              "       [ 1.57952613e-01,  4.61159689e-01],\n",
              "       [-7.26911298e-01, -1.99696929e+00],\n",
              "       [ 1.07874556e+00,  9.95295037e-01],\n",
              "       [ 6.11537188e-01,  6.64137066e-01],\n",
              "       [ 4.30863906e-02,  8.01448204e-01],\n",
              "       [ 6.01711882e-01,  2.53483085e-01],\n",
              "       [ 7.77947882e-01,  7.55139667e-01],\n",
              "       [-6.80169637e-01, -1.14201594e+00],\n",
              "       [-5.92403563e-01, -9.60762586e-01],\n",
              "       [-1.14269129e-01, -5.73788850e-01],\n",
              "       [ 1.49122210e+00,  1.16894400e+00],\n",
              "       [-1.48483054e+00, -5.81276435e-01],\n",
              "       [ 1.00084341e+00,  5.57795864e-01],\n",
              "       [-1.60342799e+00, -1.61156744e+00],\n",
              "       [ 2.24116890e-01,  3.57226481e-01],\n",
              "       [ 1.20662876e+00, -7.16085974e-03],\n",
              "       [ 1.24470379e+00,  4.80651078e-01],\n",
              "       [ 2.71244220e-01,  1.24950267e+00],\n",
              "       [ 9.07631801e-01, -8.16725478e-01],\n",
              "       [-1.02612196e+00, -1.45044268e+00],\n",
              "       [ 1.22559780e+00,  7.79204075e-01],\n",
              "       [ 1.24509661e+00,  2.27947806e-03],\n",
              "       [ 1.17885476e+00,  5.40449922e-01],\n",
              "       [ 1.19394251e+00,  6.11797991e-01],\n",
              "       [ 4.47558793e-01,  8.08382782e-01],\n",
              "       [ 2.82889421e-01,  1.25008018e+00],\n",
              "       [ 2.19765285e-02,  1.41309570e+00],\n",
              "       [ 1.20216676e-01,  1.82438832e+00],\n",
              "       [-1.01139346e+00, -1.19345294e+00],\n",
              "       [-6.43911308e-01, -5.70605568e-01],\n",
              "       [-6.52365633e-01, -1.25144155e+00],\n",
              "       [ 8.58337911e-01,  7.38902272e-01],\n",
              "       [ 1.45165831e+00,  4.90159897e-01],\n",
              "       [ 1.09437230e+00, -9.75328957e-02],\n",
              "       [ 1.50955483e+00,  1.39462920e+00],\n",
              "       [-2.89121625e-01,  1.20019956e+00],\n",
              "       [ 2.22808699e+00,  5.50128296e-01],\n",
              "       [-8.67627475e-01, -1.08100079e+00],\n",
              "       [ 1.27177981e+00,  1.28892685e+00],\n",
              "       [-2.35160373e-01,  5.63566313e-01],\n",
              "       [ 1.00405193e+00,  5.92982961e-01],\n",
              "       [ 3.51319926e-01,  1.14442668e-01],\n",
              "       [ 6.00074082e-01,  6.67333839e-01],\n",
              "       [-1.55608443e+00, -8.07981313e-01],\n",
              "       [ 2.63257992e+00,  7.85764015e-01],\n",
              "       [ 1.21214513e-01,  4.86496625e-01],\n",
              "       [-6.04184917e-01,  4.75815245e-01],\n",
              "       [ 3.99178897e-01,  1.01554332e+00],\n",
              "       [-6.83912706e-01, -5.11043227e-01],\n",
              "       [-9.38058638e-01,  8.14318068e-01],\n",
              "       [-1.22136869e+00, -8.63836721e-01],\n",
              "       [ 3.42057712e-01, -2.81935325e-02],\n",
              "       [-6.38795728e-01, -8.48057172e-01],\n",
              "       [-1.57499258e-01, -1.32371660e+00],\n",
              "       [-1.03795842e+00, -2.67643697e+00],\n",
              "       [ 1.48301977e-01, -6.78847984e-01],\n",
              "       [-1.11754799e+00, -1.29283210e+00],\n",
              "       [ 3.86400220e-01,  1.18966284e-01],\n",
              "       [-6.33593323e-01, -3.85346431e-01],\n",
              "       [ 8.24930119e-01,  1.31336552e+00],\n",
              "       [ 1.03486838e-01, -5.27692698e-01],\n",
              "       [ 6.74463238e-01,  6.35025834e-01]])"
            ]
          },
          "metadata": {},
          "execution_count": 33
        }
      ]
    },
    {
      "cell_type": "code",
      "source": [
        "from sklearn.linear_model import LogisticRegression\n",
        "from sklearn.svm import SVC\n",
        "from sklearn.neighbors import KNeighborsClassifier\n",
        "from sklearn.tree import DecisionTreeClassifier\n",
        "from sklearn.ensemble import RandomForestClassifier\n",
        "\n",
        "# Let's implement simple classifiers\n",
        "classifiers = {\n",
        "    \"LogisiticRegression\": LogisticRegression(),\n",
        "    \"KNearest\": KNeighborsClassifier(),\n",
        "    \"Support Vector Classifier\": SVC(),\n",
        "    \"DecisionTreeClassifier\": DecisionTreeClassifier(),\n",
        "    \"RandomForestClassifier\": RandomForestClassifier()\n",
        "}\n",
        "\n",
        "# Wow our scores are getting even high scores even when applying cross validation.\n",
        "from sklearn.model_selection import cross_val_score\n",
        "\n",
        "\n",
        "for key, classifier in classifiers.items():\n",
        "    classifier.fit(X_train_scaled, y_train)\n",
        "    training_score = cross_val_score(classifier, X_train_scaled, y_train, cv=5)\n",
        "    print(\"Classifiers: \", classifier.__class__.__name__, \"Has a training score of\", round(training_score.mean(), 2) * 100, \"% accuracy score\")"
      ],
      "metadata": {
        "colab": {
          "base_uri": "https://localhost:8080/"
        },
        "id": "Xg1I6Mnlblqu",
        "outputId": "c9aafda6-a051-43ca-852c-2979cba53ff3"
      },
      "execution_count": null,
      "outputs": [
        {
          "output_type": "stream",
          "name": "stdout",
          "text": [
            "Classifiers:  LogisticRegression Has a training score of 94.0 % accuracy score\n",
            "Classifiers:  KNeighborsClassifier Has a training score of 94.0 % accuracy score\n",
            "Classifiers:  SVC Has a training score of 94.0 % accuracy score\n",
            "Classifiers:  DecisionTreeClassifier Has a training score of 90.0 % accuracy score\n",
            "Classifiers:  RandomForestClassifier Has a training score of 92.0 % accuracy score\n"
          ]
        }
      ]
    },
    {
      "cell_type": "code",
      "source": [
        "from sklearn.model_selection import GridSearchCV\n",
        "from sklearn.metrics import classification_report, confusion_matrix, accuracy_score"
      ],
      "metadata": {
        "id": "652_C3oCbxGs"
      },
      "execution_count": null,
      "outputs": []
    },
    {
      "cell_type": "code",
      "source": [
        "log_reg_params = {\"penalty\": ['l2'], 'C': [0.001, 0.01, 0.1, 1, 10, 100, 1000]}\n",
        "# grid_log_reg = GridSearchCV(LogisticRegression(), log_reg_params, refit=True, verbose=4)\n",
        "grid_log_reg = GridSearchCV(LogisticRegression(), log_reg_params, refit=True)\n",
        "grid_log_reg.fit(X_train_scaled, y_train)\n",
        "print(grid_log_reg.best_params_)\n",
        "print(grid_log_reg.best_estimator_)"
      ],
      "metadata": {
        "colab": {
          "base_uri": "https://localhost:8080/"
        },
        "id": "S8W3BzHPb-zw",
        "outputId": "79ef4eae-c448-4c45-e2bd-6a7081752b92"
      },
      "execution_count": null,
      "outputs": [
        {
          "output_type": "stream",
          "name": "stdout",
          "text": [
            "{'C': 0.1, 'penalty': 'l2'}\n",
            "LogisticRegression(C=0.1)\n"
          ]
        }
      ]
    },
    {
      "cell_type": "code",
      "source": [
        "grid_log_reg_predictions = grid_log_reg.predict(X_test_scaled)\n",
        "cm = confusion_matrix(y_test, grid_log_reg_predictions)\n",
        "accuracy = accuracy_score(y_test, grid_log_reg_predictions)\n",
        "class_report = classification_report(y_test, grid_log_reg_predictions)\n",
        "sns.heatmap(cm, annot=True)\n",
        "print('accuracy:', accuracy)\n",
        "print('classification report:\\n', class_report)"
      ],
      "metadata": {
        "colab": {
          "base_uri": "https://localhost:8080/",
          "height": 468
        },
        "id": "4eEEonpFcF8v",
        "outputId": "4faf7a57-f34c-495c-901b-533626c22cf9"
      },
      "execution_count": null,
      "outputs": [
        {
          "output_type": "stream",
          "name": "stdout",
          "text": [
            "accuracy: 0.95\n",
            "classification report:\n",
            "               precision    recall  f1-score   support\n",
            "\n",
            "           0       1.00      0.90      0.95        48\n",
            "           1       0.91      1.00      0.95        52\n",
            "\n",
            "    accuracy                           0.95       100\n",
            "   macro avg       0.96      0.95      0.95       100\n",
            "weighted avg       0.95      0.95      0.95       100\n",
            "\n"
          ]
        },
        {
          "output_type": "display_data",
          "data": {
            "text/plain": [
              "<Figure size 432x288 with 2 Axes>"
            ],
            "image/png": "[encoded data removed]"
          },
          "metadata": {
            "needs_background": "light"
          }
        }
      ]
    },
    {
      "cell_type": "code",
      "source": [
        "svc_param = {'C': [0.1, 1, 10, 100], 'gamma': [1, 0.1, 0.01, 0.001], 'kernel': ['rbf', 'poly', 'sigmoid', 'linear']} \n",
        "#svc_param = {'C': [0.1, 1, 10], 'gamma': [1, 0.1, 0.01], 'kernel': ['rbf']} \n",
        "# grid_svc = GridSearchCV(SVC(), svc_param, refit=True, verbose=4)\n",
        "grid_svc = GridSearchCV(SVC(), svc_param, refit=True)\n",
        "grid_svc.fit(X_train_scaled, y_train)\n",
        "print(grid_svc.best_params_)\n",
        "print(grid_svc.best_estimator_)"
      ],
      "metadata": {
        "colab": {
          "base_uri": "https://localhost:8080/"
        },
        "id": "-nDLzPotcUND",
        "outputId": "c7fbe2b7-6f13-4911-9781-3dd6170d7c6b"
      },
      "execution_count": null,
      "outputs": [
        {
          "output_type": "stream",
          "name": "stdout",
          "text": [
            "{'C': 0.1, 'gamma': 0.1, 'kernel': 'rbf'}\n",
            "SVC(C=0.1, gamma=0.1)\n"
          ]
        }
      ]
    },
    {
      "cell_type": "code",
      "source": [
        "grid_svc_predictions = grid_svc.predict(X_test_scaled)\n",
        "cm = confusion_matrix(y_test, grid_svc_predictions)\n",
        "accuracy = accuracy_score(y_test, grid_svc_predictions)\n",
        "class_report = classification_report(y_test, grid_svc_predictions)\n",
        "sns.heatmap(cm, annot=True)\n",
        "print('accuracy:', accuracy)\n",
        "print('classification report:\\n', class_report)"
      ],
      "metadata": {
        "colab": {
          "base_uri": "https://localhost:8080/",
          "height": 468
        },
        "id": "dYAcy49mchBl",
        "outputId": "7c704c0f-a625-45d9-fb32-c98b6fd2cff0"
      },
      "execution_count": null,
      "outputs": [
        {
          "output_type": "stream",
          "name": "stdout",
          "text": [
            "accuracy: 0.95\n",
            "classification report:\n",
            "               precision    recall  f1-score   support\n",
            "\n",
            "           0       1.00      0.90      0.95        48\n",
            "           1       0.91      1.00      0.95        52\n",
            "\n",
            "    accuracy                           0.95       100\n",
            "   macro avg       0.96      0.95      0.95       100\n",
            "weighted avg       0.95      0.95      0.95       100\n",
            "\n"
          ]
        },
        {
          "output_type": "display_data",
          "data": {
            "text/plain": [
              "<Figure size 432x288 with 2 Axes>"
            ],
            "image/png": "[encoded data removed]"
          },
          "metadata": {
            "needs_background": "light"
          }
        }
      ]
    },
    {
      "cell_type": "code",
      "source": [
        "knears_params = {\"n_neighbors\": list(range(2,5,1)), 'algorithm': ['auto', 'ball_tree', 'kd_tree', 'brute']}\n",
        "# grid_knears = GridSearchCV(KNeighborsClassifier(), knears_params, refit=True, verbose=4)\n",
        "grid_knears = GridSearchCV(KNeighborsClassifier(), knears_params, refit=True)\n",
        "grid_knears.fit(X_train_scaled, y_train)\n",
        "print(grid_knears.best_params_)\n",
        "print(grid_knears.best_estimator_)"
      ],
      "metadata": {
        "colab": {
          "base_uri": "https://localhost:8080/"
        },
        "id": "MB4Z1M1vcvF3",
        "outputId": "6f8d250f-bab3-4e42-c1fa-4d0776634056"
      },
      "execution_count": null,
      "outputs": [
        {
          "output_type": "stream",
          "name": "stdout",
          "text": [
            "{'algorithm': 'auto', 'n_neighbors': 3}\n",
            "KNeighborsClassifier(n_neighbors=3)\n"
          ]
        }
      ]
    },
    {
      "cell_type": "code",
      "source": [
        "grid_kn_predictions = grid_knears.predict(X_test_scaled)\n",
        "cm = confusion_matrix(y_test, grid_kn_predictions)\n",
        "accuracy = accuracy_score(y_test, grid_kn_predictions)\n",
        "class_report = classification_report(y_test, grid_kn_predictions)\n",
        "sns.heatmap(cm, annot=True)\n",
        "print('accuracy:', accuracy)\n",
        "print('classification report:\\n', class_report)"
      ],
      "metadata": {
        "colab": {
          "base_uri": "https://localhost:8080/",
          "height": 468
        },
        "id": "AG77h7bpc487",
        "outputId": "22325f72-b6a8-470a-8b66-bbafff055193"
      },
      "execution_count": null,
      "outputs": [
        {
          "output_type": "stream",
          "name": "stdout",
          "text": [
            "accuracy: 0.95\n",
            "classification report:\n",
            "               precision    recall  f1-score   support\n",
            "\n",
            "           0       1.00      0.90      0.95        48\n",
            "           1       0.91      1.00      0.95        52\n",
            "\n",
            "    accuracy                           0.95       100\n",
            "   macro avg       0.96      0.95      0.95       100\n",
            "weighted avg       0.95      0.95      0.95       100\n",
            "\n"
          ]
        },
        {
          "output_type": "display_data",
          "data": {
            "text/plain": [
              "<Figure size 432x288 with 2 Axes>"
            ],
            "image/png": "[encoded data removed]"
          },
          "metadata": {
            "needs_background": "light"
          }
        }
      ]
    },
    {
      "cell_type": "code",
      "source": [
        "tree_params = {\"criterion\": [\"gini\", \"entropy\"], \"max_depth\": list(range(2,4,1)), \"min_samples_leaf\": list(range(5,7,1))}\n",
        "# grid_tree = GridSearchCV(DecisionTreeClassifier(), tree_params, refit=True, verbose=4)\n",
        "grid_tree = GridSearchCV(DecisionTreeClassifier(), tree_params, refit=True)\n",
        "grid_tree.fit(X_train_scaled, y_train)\n",
        "print(grid_tree.best_params_)\n",
        "print(grid_tree.best_estimator_)"
      ],
      "metadata": {
        "colab": {
          "base_uri": "https://localhost:8080/"
        },
        "id": "XY2_2pJ2c-li",
        "outputId": "ab419ce6-35dc-49d7-85a5-1930e5ec8ca0"
      },
      "execution_count": null,
      "outputs": [
        {
          "output_type": "stream",
          "name": "stdout",
          "text": [
            "{'criterion': 'gini', 'max_depth': 3, 'min_samples_leaf': 5}\n",
            "DecisionTreeClassifier(max_depth=3, min_samples_leaf=5)\n"
          ]
        }
      ]
    },
    {
      "cell_type": "code",
      "source": [
        "grid_dt_predictions = grid_tree.predict(X_test_scaled)\n",
        "cm = confusion_matrix(y_test, grid_dt_predictions)\n",
        "accuracy = accuracy_score(y_test, grid_dt_predictions)\n",
        "class_report = classification_report(y_test, grid_dt_predictions)\n",
        "sns.heatmap(cm, annot=True)\n",
        "print('accuracy:', accuracy)\n",
        "print('classification report:\\n', class_report)"
      ],
      "metadata": {
        "colab": {
          "base_uri": "https://localhost:8080/",
          "height": 468
        },
        "id": "yQMaX_54dG_X",
        "outputId": "4f4964e4-09b0-4805-c018-47d1834c55bd"
      },
      "execution_count": null,
      "outputs": [
        {
          "output_type": "stream",
          "name": "stdout",
          "text": [
            "accuracy: 0.97\n",
            "classification report:\n",
            "               precision    recall  f1-score   support\n",
            "\n",
            "           0       1.00      0.94      0.97        48\n",
            "           1       0.95      1.00      0.97        52\n",
            "\n",
            "    accuracy                           0.97       100\n",
            "   macro avg       0.97      0.97      0.97       100\n",
            "weighted avg       0.97      0.97      0.97       100\n",
            "\n"
          ]
        },
        {
          "output_type": "display_data",
          "data": {
            "text/plain": [
              "<Figure size 432x288 with 2 Axes>"
            ],
            "image/png": "[encoded data removed]"
          },
          "metadata": {
            "needs_background": "light"
          }
        }
      ]
    },
    {
      "cell_type": "code",
      "source": [
        "# randomforest_params = {'bootstrap': [True, False], 'max_depth': [10, 20, 30, 40, 50, 60, 70, 80, 90, 100, None], 'max_features': ['auto', 'sqrt'], 'min_samples_leaf': [1, 2, 4], 'min_samples_split': [2, 5, 10], 'n_estimators': [200, 400, 600, 800, 1000, 1200, 1400, 1600, 1800, 2000]}\n",
        "randomforest_params = {'bootstrap': [True, False], 'max_depth': [10, 20], 'max_features': ['auto', 'sqrt'], 'min_samples_leaf': [1, 2], 'min_samples_split': [2, 5], 'n_estimators': [200, 400]}\n",
        "# grid_rf = GridSearchCV(RandomForestClassifier(), randomforest_params, refit=True, verbose=4)\n",
        "grid_rf = GridSearchCV(RandomForestClassifier(), randomforest_params, refit=True)\n",
        "grid_rf.fit(X_train_scaled, y_train)\n",
        "print(grid_rf.best_params_)\n",
        "print(grid_rf.best_estimator_)"
      ],
      "metadata": {
        "colab": {
          "base_uri": "https://localhost:8080/"
        },
        "id": "PKbmuARpdMy_",
        "outputId": "6f61d832-4ad9-4cb7-a9a4-d63e080fbadf"
      },
      "execution_count": null,
      "outputs": [
        {
          "output_type": "stream",
          "name": "stdout",
          "text": [
            "{'bootstrap': True, 'max_depth': 10, 'max_features': 'sqrt', 'min_samples_leaf': 2, 'min_samples_split': 2, 'n_estimators': 200}\n",
            "RandomForestClassifier(max_depth=10, max_features='sqrt', min_samples_leaf=2,\n",
            "                       n_estimators=200)\n"
          ]
        }
      ]
    },
    {
      "cell_type": "code",
      "source": [
        "grid_rf_predictions = grid_rf.predict(X_test_scaled)\n",
        "cm = confusion_matrix(y_test, grid_rf_predictions)\n",
        "accuracy = accuracy_score(y_test, grid_rf_predictions)\n",
        "class_report = classification_report(y_test, grid_rf_predictions)\n",
        "sns.heatmap(cm, annot=True)\n",
        "print('accuracy:', accuracy)\n",
        "print('classification report:\\n', class_report)"
      ],
      "metadata": {
        "colab": {
          "base_uri": "https://localhost:8080/",
          "height": 468
        },
        "id": "vzyACogUdW-y",
        "outputId": "545780fb-09f2-46a9-d165-78afb8599c2e"
      },
      "execution_count": null,
      "outputs": [
        {
          "output_type": "stream",
          "name": "stdout",
          "text": [
            "accuracy: 0.95\n",
            "classification report:\n",
            "               precision    recall  f1-score   support\n",
            "\n",
            "           0       1.00      0.90      0.95        48\n",
            "           1       0.91      1.00      0.95        52\n",
            "\n",
            "    accuracy                           0.95       100\n",
            "   macro avg       0.96      0.95      0.95       100\n",
            "weighted avg       0.95      0.95      0.95       100\n",
            "\n"
          ]
        },
        {
          "output_type": "display_data",
          "data": {
            "text/plain": [
              "<Figure size 432x288 with 2 Axes>"
            ],
            "image/png": "[encoded data removed]"
          },
          "metadata": {
            "needs_background": "light"
          }
        }
      ]
    },
    {
      "cell_type": "code",
      "source": [
        "from keras.models import Sequential\n",
        "from keras.layers import Dense\n",
        "from keras.layers import LeakyReLU,PReLU,ELU\n",
        "from keras.layers import Dropout\n",
        "from keras.callbacks import EarlyStopping\n",
        "from keras.callbacks import ModelCheckpoint\n",
        "from keras.models import load_model"
      ],
      "metadata": {
        "id": "NN5UYaTxd7_k"
      },
      "execution_count": null,
      "outputs": []
    },
    {
      "cell_type": "code",
      "source": [
        "classifier = Sequential()\n",
        "classifier.add(Dense(units=2, activation='relu'))\n",
        "classifier.add(Dense(units=3, activation='relu'))\n",
        "classifier.add(Dense(units=1, activation='sigmoid'))"
      ],
      "metadata": {
        "id": "if_BqDcSeAgB"
      },
      "execution_count": null,
      "outputs": []
    },
    {
      "cell_type": "code",
      "source": [
        "classifier.compile(optimizer='adam',loss='binary_crossentropy',metrics=['accuracy'])"
      ],
      "metadata": {
        "id": "65SCq3SPeIeO"
      },
      "execution_count": null,
      "outputs": []
    },
    {
      "cell_type": "code",
      "source": [
        "model_checkpoint = ModelCheckpoint('best_model.h5', monitor='val_accuracy', mode='max', verbose=1, save_best_only=True)\n",
        "callbacks = EarlyStopping(monitor='val_loss', mode='min', verbose=1, patience=5)\n",
        "model_history = classifier.fit(X_train_scaled, y_train, validation_split=0.2, batch_size=5, epochs=100, callbacks=[callbacks, model_checkpoint] )"
      ],
      "metadata": {
        "colab": {
          "base_uri": "https://localhost:8080/"
        },
        "id": "Jqd9l_MyeNDm",
        "outputId": "7498ddf3-6f38-4d19-ce0c-c245160eb5e3"
      },
      "execution_count": null,
      "outputs": [
        {
          "output_type": "stream",
          "name": "stdout",
          "text": [
            "Epoch 1/100\n",
            "40/64 [=================>............] - ETA: 0s - loss: 0.4836 - accuracy: 0.8050 \n",
            "Epoch 1: val_accuracy improved from -inf to 0.95000, saving model to best_model.h5\n",
            "64/64 [==============================] - 1s 5ms/step - loss: 0.4768 - accuracy: 0.8656 - val_loss: 0.4636 - val_accuracy: 0.9500\n",
            "Epoch 2/100\n",
            "36/64 [===============>..............] - ETA: 0s - loss: 0.4337 - accuracy: 0.9500\n",
            "Epoch 2: val_accuracy did not improve from 0.95000\n",
            "64/64 [==============================] - 0s 2ms/step - loss: 0.4501 - accuracy: 0.9500 - val_loss: 0.4397 - val_accuracy: 0.9500\n",
            "Epoch 3/100\n",
            "33/64 [==============>...............] - ETA: 0s - loss: 0.4116 - accuracy: 0.9576\n",
            "Epoch 3: val_accuracy did not improve from 0.95000\n",
            "64/64 [==============================] - 0s 2ms/step - loss: 0.4271 - accuracy: 0.9500 - val_loss: 0.4196 - val_accuracy: 0.9500\n",
            "Epoch 4/100\n",
            "32/64 [==============>...............] - ETA: 0s - loss: 0.4027 - accuracy: 0.9750\n",
            "Epoch 4: val_accuracy did not improve from 0.95000\n",
            "64/64 [==============================] - 0s 2ms/step - loss: 0.4079 - accuracy: 0.9500 - val_loss: 0.4017 - val_accuracy: 0.9500\n",
            "Epoch 5/100\n",
            "32/64 [==============>...............] - ETA: 0s - loss: 0.4227 - accuracy: 0.9500\n",
            "Epoch 5: val_accuracy did not improve from 0.95000\n",
            "64/64 [==============================] - 0s 2ms/step - loss: 0.3918 - accuracy: 0.9469 - val_loss: 0.3865 - val_accuracy: 0.9500\n",
            "Epoch 6/100\n",
            "34/64 [==============>...............] - ETA: 0s - loss: 0.3695 - accuracy: 0.9529\n",
            "Epoch 6: val_accuracy did not improve from 0.95000\n",
            "64/64 [==============================] - 0s 2ms/step - loss: 0.3782 - accuracy: 0.9469 - val_loss: 0.3732 - val_accuracy: 0.9500\n",
            "Epoch 7/100\n",
            "35/64 [===============>..............] - ETA: 0s - loss: 0.3570 - accuracy: 0.9543\n",
            "Epoch 7: val_accuracy did not improve from 0.95000\n",
            "64/64 [==============================] - 0s 2ms/step - loss: 0.3657 - accuracy: 0.9469 - val_loss: 0.3610 - val_accuracy: 0.9500\n",
            "Epoch 8/100\n",
            "35/64 [===============>..............] - ETA: 0s - loss: 0.3644 - accuracy: 0.9314\n",
            "Epoch 8: val_accuracy did not improve from 0.95000\n",
            "64/64 [==============================] - 0s 2ms/step - loss: 0.3549 - accuracy: 0.9469 - val_loss: 0.3496 - val_accuracy: 0.9500\n",
            "Epoch 9/100\n",
            "36/64 [===============>..............] - ETA: 0s - loss: 0.3542 - accuracy: 0.9333\n",
            "Epoch 9: val_accuracy did not improve from 0.95000\n",
            "64/64 [==============================] - 0s 2ms/step - loss: 0.3448 - accuracy: 0.9469 - val_loss: 0.3393 - val_accuracy: 0.9500\n",
            "Epoch 10/100\n",
            "31/64 [=============>................] - ETA: 0s - loss: 0.3414 - accuracy: 0.9484\n",
            "Epoch 10: val_accuracy did not improve from 0.95000\n",
            "64/64 [==============================] - 0s 2ms/step - loss: 0.3358 - accuracy: 0.9469 - val_loss: 0.3295 - val_accuracy: 0.9500\n",
            "Epoch 11/100\n",
            "64/64 [==============================] - ETA: 0s - loss: 0.3276 - accuracy: 0.9469\n",
            "Epoch 11: val_accuracy did not improve from 0.95000\n",
            "64/64 [==============================] - 0s 3ms/step - loss: 0.3276 - accuracy: 0.9469 - val_loss: 0.3203 - val_accuracy: 0.9500\n",
            "Epoch 12/100\n",
            "33/64 [==============>...............] - ETA: 0s - loss: 0.3521 - accuracy: 0.9333\n",
            "Epoch 12: val_accuracy did not improve from 0.95000\n",
            "64/64 [==============================] - 0s 2ms/step - loss: 0.3195 - accuracy: 0.9469 - val_loss: 0.3120 - val_accuracy: 0.9500\n",
            "Epoch 13/100\n",
            "32/64 [==============>...............] - ETA: 0s - loss: 0.3233 - accuracy: 0.9312\n",
            "Epoch 13: val_accuracy did not improve from 0.95000\n",
            "64/64 [==============================] - 0s 2ms/step - loss: 0.3119 - accuracy: 0.9438 - val_loss: 0.3037 - val_accuracy: 0.9500\n",
            "Epoch 14/100\n",
            "39/64 [=================>............] - ETA: 0s - loss: 0.3096 - accuracy: 0.9487\n",
            "Epoch 14: val_accuracy did not improve from 0.95000\n",
            "64/64 [==============================] - 0s 2ms/step - loss: 0.3050 - accuracy: 0.9469 - val_loss: 0.2963 - val_accuracy: 0.9500\n",
            "Epoch 15/100\n",
            "35/64 [===============>..............] - ETA: 0s - loss: 0.2912 - accuracy: 0.9543\n",
            "Epoch 15: val_accuracy did not improve from 0.95000\n",
            "64/64 [==============================] - 0s 2ms/step - loss: 0.2982 - accuracy: 0.9469 - val_loss: 0.2893 - val_accuracy: 0.9500\n",
            "Epoch 16/100\n",
            "36/64 [===============>..............] - ETA: 0s - loss: 0.3101 - accuracy: 0.9389\n",
            "Epoch 16: val_accuracy did not improve from 0.95000\n",
            "64/64 [==============================] - 0s 2ms/step - loss: 0.2922 - accuracy: 0.9469 - val_loss: 0.2827 - val_accuracy: 0.9500\n",
            "Epoch 17/100\n",
            "64/64 [==============================] - ETA: 0s - loss: 0.2864 - accuracy: 0.9469\n",
            "Epoch 17: val_accuracy did not improve from 0.95000\n",
            "64/64 [==============================] - 0s 2ms/step - loss: 0.2864 - accuracy: 0.9469 - val_loss: 0.2761 - val_accuracy: 0.9500\n",
            "Epoch 18/100\n",
            "36/64 [===============>..............] - ETA: 0s - loss: 0.2813 - accuracy: 0.9611\n",
            "Epoch 18: val_accuracy did not improve from 0.95000\n",
            "64/64 [==============================] - 0s 2ms/step - loss: 0.2807 - accuracy: 0.9438 - val_loss: 0.2701 - val_accuracy: 0.9500\n",
            "Epoch 19/100\n",
            "35/64 [===============>..............] - ETA: 0s - loss: 0.2730 - accuracy: 0.9543\n",
            "Epoch 19: val_accuracy did not improve from 0.95000\n",
            "64/64 [==============================] - 0s 2ms/step - loss: 0.2754 - accuracy: 0.9438 - val_loss: 0.2643 - val_accuracy: 0.9500\n",
            "Epoch 20/100\n",
            "31/64 [=============>................] - ETA: 0s - loss: 0.2568 - accuracy: 0.9484\n",
            "Epoch 20: val_accuracy did not improve from 0.95000\n",
            "64/64 [==============================] - 0s 2ms/step - loss: 0.2703 - accuracy: 0.9438 - val_loss: 0.2586 - val_accuracy: 0.9500\n",
            "Epoch 21/100\n",
            "39/64 [=================>............] - ETA: 0s - loss: 0.2842 - accuracy: 0.9487\n",
            "Epoch 21: val_accuracy did not improve from 0.95000\n",
            "64/64 [==============================] - 0s 2ms/step - loss: 0.2655 - accuracy: 0.9438 - val_loss: 0.2532 - val_accuracy: 0.9500\n",
            "Epoch 22/100\n",
            "31/64 [=============>................] - ETA: 0s - loss: 0.2820 - accuracy: 0.9290\n",
            "Epoch 22: val_accuracy did not improve from 0.95000\n",
            "64/64 [==============================] - 0s 2ms/step - loss: 0.2610 - accuracy: 0.9406 - val_loss: 0.2484 - val_accuracy: 0.9500\n",
            "Epoch 23/100\n",
            "36/64 [===============>..............] - ETA: 0s - loss: 0.2399 - accuracy: 0.9556\n",
            "Epoch 23: val_accuracy did not improve from 0.95000\n",
            "64/64 [==============================] - 0s 2ms/step - loss: 0.2565 - accuracy: 0.9406 - val_loss: 0.2437 - val_accuracy: 0.9500\n",
            "Epoch 24/100\n",
            "56/64 [=========================>....] - ETA: 0s - loss: 0.2611 - accuracy: 0.9357\n",
            "Epoch 24: val_accuracy did not improve from 0.95000\n",
            "64/64 [==============================] - 0s 2ms/step - loss: 0.2524 - accuracy: 0.9375 - val_loss: 0.2390 - val_accuracy: 0.9500\n",
            "Epoch 25/100\n",
            "32/64 [==============>...............] - ETA: 0s - loss: 0.2489 - accuracy: 0.9375\n",
            "Epoch 25: val_accuracy did not improve from 0.95000\n",
            "64/64 [==============================] - 0s 2ms/step - loss: 0.2483 - accuracy: 0.9375 - val_loss: 0.2346 - val_accuracy: 0.9500\n",
            "Epoch 26/100\n",
            "32/64 [==============>...............] - ETA: 0s - loss: 0.2296 - accuracy: 0.9375\n",
            "Epoch 26: val_accuracy did not improve from 0.95000\n",
            "64/64 [==============================] - 0s 2ms/step - loss: 0.2444 - accuracy: 0.9375 - val_loss: 0.2306 - val_accuracy: 0.9500\n",
            "Epoch 27/100\n",
            "37/64 [================>.............] - ETA: 0s - loss: 0.2241 - accuracy: 0.9514\n",
            "Epoch 27: val_accuracy did not improve from 0.95000\n",
            "64/64 [==============================] - 0s 2ms/step - loss: 0.2410 - accuracy: 0.9375 - val_loss: 0.2264 - val_accuracy: 0.9500\n",
            "Epoch 28/100\n",
            "36/64 [===============>..............] - ETA: 0s - loss: 0.2282 - accuracy: 0.9389\n",
            "Epoch 28: val_accuracy did not improve from 0.95000\n",
            "64/64 [==============================] - 0s 2ms/step - loss: 0.2373 - accuracy: 0.9375 - val_loss: 0.2227 - val_accuracy: 0.9500\n",
            "Epoch 29/100\n",
            "38/64 [================>.............] - ETA: 0s - loss: 0.2322 - accuracy: 0.9474\n",
            "Epoch 29: val_accuracy did not improve from 0.95000\n",
            "64/64 [==============================] - 0s 2ms/step - loss: 0.2341 - accuracy: 0.9375 - val_loss: 0.2188 - val_accuracy: 0.9500\n",
            "Epoch 30/100\n",
            "32/64 [==============>...............] - ETA: 0s - loss: 0.2269 - accuracy: 0.9438\n",
            "Epoch 30: val_accuracy did not improve from 0.95000\n",
            "64/64 [==============================] - 0s 2ms/step - loss: 0.2305 - accuracy: 0.9375 - val_loss: 0.2156 - val_accuracy: 0.9500\n",
            "Epoch 31/100\n",
            "31/64 [=============>................] - ETA: 0s - loss: 0.2198 - accuracy: 0.9419\n",
            "Epoch 31: val_accuracy did not improve from 0.95000\n",
            "64/64 [==============================] - 0s 2ms/step - loss: 0.2276 - accuracy: 0.9375 - val_loss: 0.2123 - val_accuracy: 0.9500\n",
            "Epoch 32/100\n",
            "32/64 [==============>...............] - ETA: 0s - loss: 0.2070 - accuracy: 0.9438\n",
            "Epoch 32: val_accuracy did not improve from 0.95000\n",
            "64/64 [==============================] - 0s 2ms/step - loss: 0.2247 - accuracy: 0.9375 - val_loss: 0.2093 - val_accuracy: 0.9500\n",
            "Epoch 33/100\n",
            "36/64 [===============>..............] - ETA: 0s - loss: 0.1944 - accuracy: 0.9611\n",
            "Epoch 33: val_accuracy did not improve from 0.95000\n",
            "64/64 [==============================] - 0s 2ms/step - loss: 0.2217 - accuracy: 0.9375 - val_loss: 0.2063 - val_accuracy: 0.9500\n",
            "Epoch 34/100\n",
            "33/64 [==============>...............] - ETA: 0s - loss: 0.2237 - accuracy: 0.9394\n",
            "Epoch 34: val_accuracy did not improve from 0.95000\n",
            "64/64 [==============================] - 0s 2ms/step - loss: 0.2191 - accuracy: 0.9375 - val_loss: 0.2034 - val_accuracy: 0.9500\n",
            "Epoch 35/100\n",
            "38/64 [================>.............] - ETA: 0s - loss: 0.2000 - accuracy: 0.9474\n",
            "Epoch 35: val_accuracy improved from 0.95000 to 0.96250, saving model to best_model.h5\n",
            "64/64 [==============================] - 0s 2ms/step - loss: 0.2164 - accuracy: 0.9375 - val_loss: 0.2005 - val_accuracy: 0.9625\n",
            "Epoch 36/100\n",
            "33/64 [==============>...............] - ETA: 0s - loss: 0.1991 - accuracy: 0.9455\n",
            "Epoch 36: val_accuracy did not improve from 0.96250\n",
            "64/64 [==============================] - 0s 2ms/step - loss: 0.2141 - accuracy: 0.9375 - val_loss: 0.1986 - val_accuracy: 0.9500\n",
            "Epoch 37/100\n",
            "38/64 [================>.............] - ETA: 0s - loss: 0.1872 - accuracy: 0.9579\n",
            "Epoch 37: val_accuracy did not improve from 0.96250\n",
            "64/64 [==============================] - 0s 2ms/step - loss: 0.2118 - accuracy: 0.9375 - val_loss: 0.1958 - val_accuracy: 0.9625\n",
            "Epoch 38/100\n",
            "35/64 [===============>..............] - ETA: 0s - loss: 0.2247 - accuracy: 0.9314\n",
            "Epoch 38: val_accuracy did not improve from 0.96250\n",
            "64/64 [==============================] - 0s 2ms/step - loss: 0.2095 - accuracy: 0.9375 - val_loss: 0.1936 - val_accuracy: 0.9625\n",
            "Epoch 39/100\n",
            "35/64 [===============>..............] - ETA: 0s - loss: 0.1937 - accuracy: 0.9486\n",
            "Epoch 39: val_accuracy did not improve from 0.96250\n",
            "64/64 [==============================] - 0s 2ms/step - loss: 0.2073 - accuracy: 0.9375 - val_loss: 0.1912 - val_accuracy: 0.9625\n",
            "Epoch 40/100\n",
            "36/64 [===============>..............] - ETA: 0s - loss: 0.1868 - accuracy: 0.9500\n",
            "Epoch 40: val_accuracy did not improve from 0.96250\n",
            "64/64 [==============================] - 0s 2ms/step - loss: 0.2052 - accuracy: 0.9375 - val_loss: 0.1893 - val_accuracy: 0.9625\n",
            "Epoch 41/100\n",
            "35/64 [===============>..............] - ETA: 0s - loss: 0.2047 - accuracy: 0.9429\n",
            "Epoch 41: val_accuracy did not improve from 0.96250\n",
            "64/64 [==============================] - 0s 2ms/step - loss: 0.2033 - accuracy: 0.9375 - val_loss: 0.1872 - val_accuracy: 0.9625\n",
            "Epoch 42/100\n",
            "31/64 [=============>................] - ETA: 0s - loss: 0.2223 - accuracy: 0.9290\n",
            "Epoch 42: val_accuracy did not improve from 0.96250\n",
            "64/64 [==============================] - 0s 2ms/step - loss: 0.2015 - accuracy: 0.9375 - val_loss: 0.1855 - val_accuracy: 0.9625\n",
            "Epoch 43/100\n",
            "31/64 [=============>................] - ETA: 0s - loss: 0.1776 - accuracy: 0.9484\n",
            "Epoch 43: val_accuracy did not improve from 0.96250\n",
            "64/64 [==============================] - 0s 2ms/step - loss: 0.1995 - accuracy: 0.9375 - val_loss: 0.1836 - val_accuracy: 0.9625\n",
            "Epoch 44/100\n",
            "39/64 [=================>............] - ETA: 0s - loss: 0.2106 - accuracy: 0.9231\n",
            "Epoch 44: val_accuracy did not improve from 0.96250\n",
            "64/64 [==============================] - 0s 2ms/step - loss: 0.1979 - accuracy: 0.9375 - val_loss: 0.1819 - val_accuracy: 0.9625\n",
            "Epoch 45/100\n",
            "34/64 [==============>...............] - ETA: 0s - loss: 0.1588 - accuracy: 0.9647\n",
            "Epoch 45: val_accuracy did not improve from 0.96250\n",
            "64/64 [==============================] - 0s 2ms/step - loss: 0.1962 - accuracy: 0.9375 - val_loss: 0.1803 - val_accuracy: 0.9625\n",
            "Epoch 46/100\n",
            "34/64 [==============>...............] - ETA: 0s - loss: 0.2090 - accuracy: 0.9353\n",
            "Epoch 46: val_accuracy did not improve from 0.96250\n",
            "64/64 [==============================] - 0s 2ms/step - loss: 0.1946 - accuracy: 0.9375 - val_loss: 0.1786 - val_accuracy: 0.9625\n",
            "Epoch 47/100\n",
            "36/64 [===============>..............] - ETA: 0s - loss: 0.1728 - accuracy: 0.9556\n",
            "Epoch 47: val_accuracy did not improve from 0.96250\n",
            "64/64 [==============================] - 0s 2ms/step - loss: 0.1929 - accuracy: 0.9375 - val_loss: 0.1773 - val_accuracy: 0.9625\n",
            "Epoch 48/100\n",
            "36/64 [===============>..............] - ETA: 0s - loss: 0.1949 - accuracy: 0.9389\n",
            "Epoch 48: val_accuracy did not improve from 0.96250\n",
            "64/64 [==============================] - 0s 2ms/step - loss: 0.1916 - accuracy: 0.9375 - val_loss: 0.1761 - val_accuracy: 0.9625\n",
            "Epoch 49/100\n",
            "36/64 [===============>..............] - ETA: 0s - loss: 0.1986 - accuracy: 0.9444\n",
            "Epoch 49: val_accuracy did not improve from 0.96250\n",
            "64/64 [==============================] - 0s 2ms/step - loss: 0.1901 - accuracy: 0.9375 - val_loss: 0.1744 - val_accuracy: 0.9625\n",
            "Epoch 50/100\n",
            "37/64 [================>.............] - ETA: 0s - loss: 0.2029 - accuracy: 0.9297\n",
            "Epoch 50: val_accuracy did not improve from 0.96250\n",
            "64/64 [==============================] - 0s 2ms/step - loss: 0.1890 - accuracy: 0.9375 - val_loss: 0.1733 - val_accuracy: 0.9625\n",
            "Epoch 51/100\n",
            "32/64 [==============>...............] - ETA: 0s - loss: 0.1950 - accuracy: 0.9312\n",
            "Epoch 51: val_accuracy did not improve from 0.96250\n",
            "64/64 [==============================] - 0s 2ms/step - loss: 0.1875 - accuracy: 0.9375 - val_loss: 0.1721 - val_accuracy: 0.9625\n",
            "Epoch 52/100\n",
            "38/64 [================>.............] - ETA: 0s - loss: 0.2037 - accuracy: 0.9211\n",
            "Epoch 52: val_accuracy did not improve from 0.96250\n",
            "64/64 [==============================] - 0s 2ms/step - loss: 0.1863 - accuracy: 0.9375 - val_loss: 0.1709 - val_accuracy: 0.9625\n",
            "Epoch 53/100\n",
            "33/64 [==============>...............] - ETA: 0s - loss: 0.1823 - accuracy: 0.9394\n",
            "Epoch 53: val_accuracy did not improve from 0.96250\n",
            "64/64 [==============================] - 0s 2ms/step - loss: 0.1849 - accuracy: 0.9375 - val_loss: 0.1700 - val_accuracy: 0.9625\n",
            "Epoch 54/100\n",
            "34/64 [==============>...............] - ETA: 0s - loss: 0.1971 - accuracy: 0.9294\n",
            "Epoch 54: val_accuracy did not improve from 0.96250\n",
            "64/64 [==============================] - 0s 2ms/step - loss: 0.1839 - accuracy: 0.9375 - val_loss: 0.1688 - val_accuracy: 0.9625\n",
            "Epoch 55/100\n",
            "33/64 [==============>...............] - ETA: 0s - loss: 0.2008 - accuracy: 0.9333\n",
            "Epoch 55: val_accuracy did not improve from 0.96250\n",
            "64/64 [==============================] - 0s 2ms/step - loss: 0.1828 - accuracy: 0.9375 - val_loss: 0.1678 - val_accuracy: 0.9625\n",
            "Epoch 56/100\n",
            "35/64 [===============>..............] - ETA: 0s - loss: 0.2008 - accuracy: 0.9257\n",
            "Epoch 56: val_accuracy did not improve from 0.96250\n",
            "64/64 [==============================] - 0s 2ms/step - loss: 0.1821 - accuracy: 0.9375 - val_loss: 0.1669 - val_accuracy: 0.9625\n",
            "Epoch 57/100\n",
            "38/64 [================>.............] - ETA: 0s - loss: 0.2145 - accuracy: 0.9211\n",
            "Epoch 57: val_accuracy did not improve from 0.96250\n",
            "64/64 [==============================] - 0s 2ms/step - loss: 0.1809 - accuracy: 0.9375 - val_loss: 0.1660 - val_accuracy: 0.9625\n",
            "Epoch 58/100\n",
            "36/64 [===============>..............] - ETA: 0s - loss: 0.1736 - accuracy: 0.9389\n",
            "Epoch 58: val_accuracy did not improve from 0.96250\n",
            "64/64 [==============================] - 0s 2ms/step - loss: 0.1797 - accuracy: 0.9375 - val_loss: 0.1651 - val_accuracy: 0.9625\n",
            "Epoch 59/100\n",
            "38/64 [================>.............] - ETA: 0s - loss: 0.2123 - accuracy: 0.9158\n",
            "Epoch 59: val_accuracy did not improve from 0.96250\n",
            "64/64 [==============================] - 0s 3ms/step - loss: 0.1791 - accuracy: 0.9375 - val_loss: 0.1644 - val_accuracy: 0.9625\n",
            "Epoch 60/100\n",
            "36/64 [===============>..............] - ETA: 0s - loss: 0.1712 - accuracy: 0.9444\n",
            "Epoch 60: val_accuracy did not improve from 0.96250\n",
            "64/64 [==============================] - 0s 2ms/step - loss: 0.1777 - accuracy: 0.9375 - val_loss: 0.1635 - val_accuracy: 0.9625\n",
            "Epoch 61/100\n",
            "38/64 [================>.............] - ETA: 0s - loss: 0.1943 - accuracy: 0.9316\n",
            "Epoch 61: val_accuracy did not improve from 0.96250\n",
            "64/64 [==============================] - 0s 2ms/step - loss: 0.1769 - accuracy: 0.9375 - val_loss: 0.1628 - val_accuracy: 0.9625\n",
            "Epoch 62/100\n",
            "33/64 [==============>...............] - ETA: 0s - loss: 0.1670 - accuracy: 0.9394\n",
            "Epoch 62: val_accuracy did not improve from 0.96250\n",
            "64/64 [==============================] - 0s 2ms/step - loss: 0.1760 - accuracy: 0.9375 - val_loss: 0.1622 - val_accuracy: 0.9625\n",
            "Epoch 63/100\n",
            "34/64 [==============>...............] - ETA: 0s - loss: 0.1827 - accuracy: 0.9294\n",
            "Epoch 63: val_accuracy did not improve from 0.96250\n",
            "64/64 [==============================] - 0s 2ms/step - loss: 0.1749 - accuracy: 0.9375 - val_loss: 0.1613 - val_accuracy: 0.9625\n",
            "Epoch 64/100\n",
            "33/64 [==============>...............] - ETA: 0s - loss: 0.1516 - accuracy: 0.9515\n",
            "Epoch 64: val_accuracy did not improve from 0.96250\n",
            "64/64 [==============================] - 0s 2ms/step - loss: 0.1739 - accuracy: 0.9375 - val_loss: 0.1609 - val_accuracy: 0.9625\n",
            "Epoch 65/100\n",
            "34/64 [==============>...............] - ETA: 0s - loss: 0.1567 - accuracy: 0.9412\n",
            "Epoch 65: val_accuracy did not improve from 0.96250\n",
            "64/64 [==============================] - 0s 2ms/step - loss: 0.1731 - accuracy: 0.9375 - val_loss: 0.1603 - val_accuracy: 0.9625\n",
            "Epoch 66/100\n",
            "34/64 [==============>...............] - ETA: 0s - loss: 0.1539 - accuracy: 0.9529\n",
            "Epoch 66: val_accuracy did not improve from 0.96250\n",
            "64/64 [==============================] - 0s 2ms/step - loss: 0.1722 - accuracy: 0.9375 - val_loss: 0.1596 - val_accuracy: 0.9625\n",
            "Epoch 67/100\n",
            "28/64 [============>.................] - ETA: 0s - loss: 0.1960 - accuracy: 0.9286\n",
            "Epoch 67: val_accuracy did not improve from 0.96250\n",
            "64/64 [==============================] - 0s 2ms/step - loss: 0.1713 - accuracy: 0.9375 - val_loss: 0.1591 - val_accuracy: 0.9625\n",
            "Epoch 68/100\n",
            "31/64 [=============>................] - ETA: 0s - loss: 0.1742 - accuracy: 0.9290\n",
            "Epoch 68: val_accuracy did not improve from 0.96250\n",
            "64/64 [==============================] - 0s 2ms/step - loss: 0.1704 - accuracy: 0.9375 - val_loss: 0.1588 - val_accuracy: 0.9625\n",
            "Epoch 69/100\n",
            "35/64 [===============>..............] - ETA: 0s - loss: 0.1676 - accuracy: 0.9371\n",
            "Epoch 69: val_accuracy did not improve from 0.96250\n",
            "64/64 [==============================] - 0s 2ms/step - loss: 0.1695 - accuracy: 0.9375 - val_loss: 0.1582 - val_accuracy: 0.9625\n",
            "Epoch 70/100\n",
            "32/64 [==============>...............] - ETA: 0s - loss: 0.1989 - accuracy: 0.9187\n",
            "Epoch 70: val_accuracy did not improve from 0.96250\n",
            "64/64 [==============================] - 0s 2ms/step - loss: 0.1687 - accuracy: 0.9375 - val_loss: 0.1576 - val_accuracy: 0.9625\n",
            "Epoch 71/100\n",
            "36/64 [===============>..............] - ETA: 0s - loss: 0.1991 - accuracy: 0.9222\n",
            "Epoch 71: val_accuracy did not improve from 0.96250\n",
            "64/64 [==============================] - 0s 2ms/step - loss: 0.1679 - accuracy: 0.9375 - val_loss: 0.1572 - val_accuracy: 0.9625\n",
            "Epoch 72/100\n",
            "37/64 [================>.............] - ETA: 0s - loss: 0.1411 - accuracy: 0.9622\n",
            "Epoch 72: val_accuracy did not improve from 0.96250\n",
            "64/64 [==============================] - 0s 2ms/step - loss: 0.1668 - accuracy: 0.9375 - val_loss: 0.1563 - val_accuracy: 0.9625\n",
            "Epoch 73/100\n",
            "37/64 [================>.............] - ETA: 0s - loss: 0.1728 - accuracy: 0.9351\n",
            "Epoch 73: val_accuracy did not improve from 0.96250\n",
            "64/64 [==============================] - 0s 2ms/step - loss: 0.1664 - accuracy: 0.9375 - val_loss: 0.1558 - val_accuracy: 0.9625\n",
            "Epoch 74/100\n",
            "38/64 [================>.............] - ETA: 0s - loss: 0.1790 - accuracy: 0.9263\n",
            "Epoch 74: val_accuracy did not improve from 0.96250\n",
            "64/64 [==============================] - 0s 2ms/step - loss: 0.1656 - accuracy: 0.9375 - val_loss: 0.1549 - val_accuracy: 0.9625\n",
            "Epoch 75/100\n",
            "33/64 [==============>...............] - ETA: 0s - loss: 0.1601 - accuracy: 0.9455\n",
            "Epoch 75: val_accuracy did not improve from 0.96250\n",
            "64/64 [==============================] - 0s 2ms/step - loss: 0.1646 - accuracy: 0.9375 - val_loss: 0.1544 - val_accuracy: 0.9625\n",
            "Epoch 76/100\n",
            "35/64 [===============>..............] - ETA: 0s - loss: 0.1731 - accuracy: 0.9314\n",
            "Epoch 76: val_accuracy did not improve from 0.96250\n",
            "64/64 [==============================] - 0s 2ms/step - loss: 0.1638 - accuracy: 0.9375 - val_loss: 0.1539 - val_accuracy: 0.9625\n",
            "Epoch 77/100\n",
            "33/64 [==============>...............] - ETA: 0s - loss: 0.1819 - accuracy: 0.9333\n",
            "Epoch 77: val_accuracy did not improve from 0.96250\n",
            "64/64 [==============================] - 0s 2ms/step - loss: 0.1633 - accuracy: 0.9375 - val_loss: 0.1533 - val_accuracy: 0.9625\n",
            "Epoch 78/100\n",
            "64/64 [==============================] - ETA: 0s - loss: 0.1624 - accuracy: 0.9375\n",
            "Epoch 78: val_accuracy did not improve from 0.96250\n",
            "64/64 [==============================] - 0s 2ms/step - loss: 0.1624 - accuracy: 0.9375 - val_loss: 0.1529 - val_accuracy: 0.9625\n",
            "Epoch 79/100\n",
            "34/64 [==============>...............] - ETA: 0s - loss: 0.1649 - accuracy: 0.9353\n",
            "Epoch 79: val_accuracy did not improve from 0.96250\n",
            "64/64 [==============================] - 0s 2ms/step - loss: 0.1619 - accuracy: 0.9375 - val_loss: 0.1525 - val_accuracy: 0.9625\n",
            "Epoch 80/100\n",
            "60/64 [===========================>..] - ETA: 0s - loss: 0.1606 - accuracy: 0.9367\n",
            "Epoch 80: val_accuracy did not improve from 0.96250\n",
            "64/64 [==============================] - 0s 2ms/step - loss: 0.1615 - accuracy: 0.9375 - val_loss: 0.1519 - val_accuracy: 0.9625\n",
            "Epoch 81/100\n",
            "35/64 [===============>..............] - ETA: 0s - loss: 0.1701 - accuracy: 0.9314\n",
            "Epoch 81: val_accuracy did not improve from 0.96250\n",
            "64/64 [==============================] - 0s 2ms/step - loss: 0.1607 - accuracy: 0.9375 - val_loss: 0.1516 - val_accuracy: 0.9625\n",
            "Epoch 82/100\n",
            "37/64 [================>.............] - ETA: 0s - loss: 0.1565 - accuracy: 0.9459\n",
            "Epoch 82: val_accuracy did not improve from 0.96250\n",
            "64/64 [==============================] - 0s 2ms/step - loss: 0.1604 - accuracy: 0.9375 - val_loss: 0.1511 - val_accuracy: 0.9625\n",
            "Epoch 83/100\n",
            "35/64 [===============>..............] - ETA: 0s - loss: 0.1765 - accuracy: 0.9371\n",
            "Epoch 83: val_accuracy did not improve from 0.96250\n",
            "64/64 [==============================] - 0s 2ms/step - loss: 0.1597 - accuracy: 0.9375 - val_loss: 0.1507 - val_accuracy: 0.9625\n",
            "Epoch 84/100\n",
            "63/64 [============================>.] - ETA: 0s - loss: 0.1498 - accuracy: 0.9429\n",
            "Epoch 84: val_accuracy did not improve from 0.96250\n",
            "64/64 [==============================] - 0s 2ms/step - loss: 0.1591 - accuracy: 0.9375 - val_loss: 0.1501 - val_accuracy: 0.9625\n",
            "Epoch 85/100\n",
            "30/64 [=============>................] - ETA: 0s - loss: 0.1499 - accuracy: 0.9400\n",
            "Epoch 85: val_accuracy did not improve from 0.96250\n",
            "64/64 [==============================] - 0s 2ms/step - loss: 0.1589 - accuracy: 0.9375 - val_loss: 0.1500 - val_accuracy: 0.9625\n",
            "Epoch 86/100\n",
            "62/64 [============================>.] - ETA: 0s - loss: 0.1619 - accuracy: 0.9355\n",
            "Epoch 86: val_accuracy did not improve from 0.96250\n",
            "64/64 [==============================] - 0s 2ms/step - loss: 0.1581 - accuracy: 0.9375 - val_loss: 0.1495 - val_accuracy: 0.9625\n",
            "Epoch 87/100\n",
            "29/64 [============>.................] - ETA: 0s - loss: 0.1583 - accuracy: 0.9379\n",
            "Epoch 87: val_accuracy did not improve from 0.96250\n",
            "64/64 [==============================] - 0s 2ms/step - loss: 0.1576 - accuracy: 0.9375 - val_loss: 0.1490 - val_accuracy: 0.9625\n",
            "Epoch 88/100\n",
            "30/64 [=============>................] - ETA: 0s - loss: 0.1507 - accuracy: 0.9400\n",
            "Epoch 88: val_accuracy did not improve from 0.96250\n",
            "64/64 [==============================] - 0s 2ms/step - loss: 0.1570 - accuracy: 0.9375 - val_loss: 0.1488 - val_accuracy: 0.9625\n",
            "Epoch 89/100\n",
            "35/64 [===============>..............] - ETA: 0s - loss: 0.1356 - accuracy: 0.9543\n",
            "Epoch 89: val_accuracy did not improve from 0.96250\n",
            "64/64 [==============================] - 0s 2ms/step - loss: 0.1566 - accuracy: 0.9375 - val_loss: 0.1484 - val_accuracy: 0.9625\n",
            "Epoch 90/100\n",
            "33/64 [==============>...............] - ETA: 0s - loss: 0.1196 - accuracy: 0.9515\n",
            "Epoch 90: val_accuracy did not improve from 0.96250\n",
            "64/64 [==============================] - 0s 2ms/step - loss: 0.1560 - accuracy: 0.9375 - val_loss: 0.1481 - val_accuracy: 0.9625\n",
            "Epoch 91/100\n",
            "33/64 [==============>...............] - ETA: 0s - loss: 0.1609 - accuracy: 0.9273\n",
            "Epoch 91: val_accuracy did not improve from 0.96250\n",
            "64/64 [==============================] - 0s 2ms/step - loss: 0.1559 - accuracy: 0.9375 - val_loss: 0.1478 - val_accuracy: 0.9625\n",
            "Epoch 92/100\n",
            "32/64 [==============>...............] - ETA: 0s - loss: 0.1461 - accuracy: 0.9500\n",
            "Epoch 92: val_accuracy did not improve from 0.96250\n",
            "64/64 [==============================] - 0s 2ms/step - loss: 0.1551 - accuracy: 0.9375 - val_loss: 0.1475 - val_accuracy: 0.9625\n",
            "Epoch 93/100\n",
            "32/64 [==============>...............] - ETA: 0s - loss: 0.1317 - accuracy: 0.9438\n",
            "Epoch 93: val_accuracy did not improve from 0.96250\n",
            "64/64 [==============================] - 0s 2ms/step - loss: 0.1549 - accuracy: 0.9375 - val_loss: 0.1471 - val_accuracy: 0.9625\n",
            "Epoch 94/100\n",
            "31/64 [=============>................] - ETA: 0s - loss: 0.1264 - accuracy: 0.9484\n",
            "Epoch 94: val_accuracy did not improve from 0.96250\n",
            "64/64 [==============================] - 0s 2ms/step - loss: 0.1546 - accuracy: 0.9375 - val_loss: 0.1470 - val_accuracy: 0.9625\n",
            "Epoch 95/100\n",
            "35/64 [===============>..............] - ETA: 0s - loss: 0.1322 - accuracy: 0.9543\n",
            "Epoch 95: val_accuracy did not improve from 0.96250\n",
            "64/64 [==============================] - 0s 2ms/step - loss: 0.1542 - accuracy: 0.9375 - val_loss: 0.1467 - val_accuracy: 0.9625\n",
            "Epoch 96/100\n",
            "33/64 [==============>...............] - ETA: 0s - loss: 0.1147 - accuracy: 0.9636\n",
            "Epoch 96: val_accuracy did not improve from 0.96250\n",
            "64/64 [==============================] - 0s 2ms/step - loss: 0.1537 - accuracy: 0.9375 - val_loss: 0.1465 - val_accuracy: 0.9625\n",
            "Epoch 97/100\n",
            "34/64 [==============>...............] - ETA: 0s - loss: 0.1748 - accuracy: 0.9176\n",
            "Epoch 97: val_accuracy did not improve from 0.96250\n",
            "64/64 [==============================] - 0s 2ms/step - loss: 0.1533 - accuracy: 0.9375 - val_loss: 0.1460 - val_accuracy: 0.9625\n",
            "Epoch 98/100\n",
            "36/64 [===============>..............] - ETA: 0s - loss: 0.1554 - accuracy: 0.9333\n",
            "Epoch 98: val_accuracy did not improve from 0.96250\n",
            "64/64 [==============================] - 0s 2ms/step - loss: 0.1532 - accuracy: 0.9375 - val_loss: 0.1461 - val_accuracy: 0.9625\n",
            "Epoch 99/100\n",
            "38/64 [================>.............] - ETA: 0s - loss: 0.1451 - accuracy: 0.9421\n",
            "Epoch 99: val_accuracy did not improve from 0.96250\n",
            "64/64 [==============================] - 0s 2ms/step - loss: 0.1525 - accuracy: 0.9375 - val_loss: 0.1456 - val_accuracy: 0.9625\n",
            "Epoch 100/100\n",
            "35/64 [===============>..............] - ETA: 0s - loss: 0.1009 - accuracy: 0.9714\n",
            "Epoch 100: val_accuracy did not improve from 0.96250\n",
            "64/64 [==============================] - 0s 2ms/step - loss: 0.1523 - accuracy: 0.9375 - val_loss: 0.1455 - val_accuracy: 0.9625\n"
          ]
        }
      ]
    },
    {
      "cell_type": "code",
      "source": [
        "print(model_history.history.keys())"
      ],
      "metadata": {
        "colab": {
          "base_uri": "https://localhost:8080/"
        },
        "id": "dk26v6WxeWW-",
        "outputId": "9f04c497-5ac2-4009-a95c-b2d5eee0abc2"
      },
      "execution_count": null,
      "outputs": [
        {
          "output_type": "stream",
          "name": "stdout",
          "text": [
            "dict_keys(['loss', 'accuracy', 'val_loss', 'val_accuracy'])\n"
          ]
        }
      ]
    },
    {
      "cell_type": "code",
      "source": [
        "plt.plot(model_history.history['accuracy'])\n",
        "plt.plot(model_history.history['val_accuracy'])\n",
        "plt.title('model accuracy')\n",
        "plt.ylabel('accuracy')\n",
        "plt.xlabel('epoch')\n",
        "plt.legend(['train', 'test'], loc='upper left')\n",
        "plt.show()"
      ],
      "metadata": {
        "colab": {
          "base_uri": "https://localhost:8080/",
          "height": 295
        },
        "id": "2aR1mtyTemPP",
        "outputId": "41e450f6-3d9c-47e3-82da-50949540582b"
      },
      "execution_count": null,
      "outputs": [
        {
          "output_type": "display_data",
          "data": {
            "text/plain": [
              "<Figure size 432x288 with 1 Axes>"
            ],
            "image/png": "[encoded data removed]"
          },
          "metadata": {
            "needs_background": "light"
          }
        }
      ]
    },
    {
      "cell_type": "code",
      "source": [
        "plt.plot(model_history.history['loss'])\n",
        "plt.plot(model_history.history['val_loss'])\n",
        "plt.title('model loss')\n",
        "plt.ylabel('loss')\n",
        "plt.xlabel('epoch')\n",
        "plt.legend(['train', 'test'], loc='upper left')\n",
        "plt.show()"
      ],
      "metadata": {
        "colab": {
          "base_uri": "https://localhost:8080/",
          "height": 295
        },
        "id": "gH11rn3beoQN",
        "outputId": "e85fc3ca-916f-4ae2-be57-29e0dce29d2a"
      },
      "execution_count": null,
      "outputs": [
        {
          "output_type": "display_data",
          "data": {
            "text/plain": [
              "<Figure size 432x288 with 1 Axes>"
            ],
            "image/png": "[encoded data removed]"
          },
          "metadata": {
            "needs_background": "light"
          }
        }
      ]
    },
    {
      "cell_type": "code",
      "source": [
        "saved_model = load_model('best_model.h5')\n",
        "ann_predictions_score = saved_model.predict(X_test_scaled)\n",
        "ann_predictions = (ann_predictions_score > 0.5)\n",
        "cm = confusion_matrix(y_test, ann_predictions)\n",
        "accuracy = accuracy_score(y_test, ann_predictions)\n",
        "class_report = classification_report(y_test, ann_predictions)\n",
        "sns.heatmap(cm, annot=True)\n",
        "print('accuracy:', accuracy)\n",
        "print('classification report:\\n', class_report)"
      ],
      "metadata": {
        "colab": {
          "base_uri": "https://localhost:8080/",
          "height": 468
        },
        "id": "L07qURjOfXIG",
        "outputId": "5f7e0574-a273-4444-eb53-d3ae5a4254d6"
      },
      "execution_count": null,
      "outputs": [
        {
          "output_type": "stream",
          "name": "stdout",
          "text": [
            "accuracy: 0.96\n",
            "classification report:\n",
            "               precision    recall  f1-score   support\n",
            "\n",
            "           0       1.00      0.92      0.96        48\n",
            "           1       0.93      1.00      0.96        52\n",
            "\n",
            "    accuracy                           0.96       100\n",
            "   macro avg       0.96      0.96      0.96       100\n",
            "weighted avg       0.96      0.96      0.96       100\n",
            "\n"
          ]
        },
        {
          "output_type": "display_data",
          "data": {
            "text/plain": [
              "<Figure size 432x288 with 2 Axes>"
            ],
            "image/png": "[encoded data removed]"
          },
          "metadata": {
            "needs_background": "light"
          }
        }
      ]
    },
    {
      "cell_type": "code",
      "source": [
        "test = [[27, 681102]]\n",
        "test_scaled = sc.transform(test)\n",
        "final_test = saved_model.predict(test_scaled)\n",
        "final_pred = np.where(final_test > 0.5, 'Retire', 'Not-Retire' )"
      ],
      "metadata": {
        "id": "_ziO-83bfpGw"
      },
      "execution_count": null,
      "outputs": []
    },
    {
      "cell_type": "code",
      "source": [
        "final_test"
      ],
      "metadata": {
        "colab": {
          "base_uri": "https://localhost:8080/"
        },
        "id": "aCZabQqrhLUb",
        "outputId": "291b169c-b89d-45e9-8ff5-e96f89fe4664"
      },
      "execution_count": null,
      "outputs": [
        {
          "output_type": "execute_result",
          "data": {
            "text/plain": [
              "array([[0.19791755]], dtype=float32)"
            ]
          },
          "metadata": {},
          "execution_count": 55
        }
      ]
    },
    {
      "cell_type": "code",
      "source": [
        "final_pred[0][0]"
      ],
      "metadata": {
        "colab": {
          "base_uri": "https://localhost:8080/",
          "height": 36
        },
        "id": "d2tV-bihhjNf",
        "outputId": "3a4e1129-0647-4a5a-d0f5-f884aa7d0efc"
      },
      "execution_count": null,
      "outputs": [
        {
          "output_type": "execute_result",
          "data": {
            "text/plain": [
              "'Not-Retire'"
            ],
            "application/vnd.google.colaboratory.intrinsic+json": {
              "type": "string"
            }
          },
          "metadata": {},
          "execution_count": 56
        }
      ]
    },
    {
      "cell_type": "markdown",
      "source": [
        "Flask Implementation"
      ],
      "metadata": {
        "id": "xQ06ctsXzoxV"
      }
    },
    {
      "cell_type": "code",
      "source": [
        "!pip install flask-ngrok"
      ],
      "metadata": {
        "colab": {
          "base_uri": "https://localhost:8080/"
        },
        "id": "dr92M7_en5jj",
        "outputId": "8b5d89e5-0353-434e-d22e-b9ea98324305"
      },
      "execution_count": null,
      "outputs": [
        {
          "output_type": "stream",
          "name": "stdout",
          "text": [
            "Looking in indexes: https://pypi.org/simple, https://us-python.pkg.dev/colab-wheels/public/simple/\n",
            "Requirement already satisfied: flask-ngrok in /usr/local/lib/python3.7/dist-packages (0.0.25)\n",
            "Requirement already satisfied: Flask>=0.8 in /usr/local/lib/python3.7/dist-packages (from flask-ngrok) (1.1.4)\n",
            "Requirement already satisfied: requests in /usr/local/lib/python3.7/dist-packages (from flask-ngrok) (2.23.0)\n",
            "Requirement already satisfied: click<8.0,>=5.1 in /usr/local/lib/python3.7/dist-packages (from Flask>=0.8->flask-ngrok) (7.1.2)\n",
            "Requirement already satisfied: Jinja2<3.0,>=2.10.1 in /usr/local/lib/python3.7/dist-packages (from Flask>=0.8->flask-ngrok) (2.11.3)\n",
            "Requirement already satisfied: Werkzeug<2.0,>=0.15 in /usr/local/lib/python3.7/dist-packages (from Flask>=0.8->flask-ngrok) (1.0.1)\n",
            "Requirement already satisfied: itsdangerous<2.0,>=0.24 in /usr/local/lib/python3.7/dist-packages (from Flask>=0.8->flask-ngrok) (1.1.0)\n",
            "Requirement already satisfied: MarkupSafe>=0.23 in /usr/local/lib/python3.7/dist-packages (from Jinja2<3.0,>=2.10.1->Flask>=0.8->flask-ngrok) (2.0.1)\n",
            "Requirement already satisfied: certifi>=2017.4.17 in /usr/local/lib/python3.7/dist-packages (from requests->flask-ngrok) (2022.6.15)\n",
            "Requirement already satisfied: idna<3,>=2.5 in /usr/local/lib/python3.7/dist-packages (from requests->flask-ngrok) (2.10)\n",
            "Requirement already satisfied: chardet<4,>=3.0.2 in /usr/local/lib/python3.7/dist-packages (from requests->flask-ngrok) (3.0.4)\n",
            "Requirement already satisfied: urllib3!=1.25.0,!=1.25.1,<1.26,>=1.21.1 in /usr/local/lib/python3.7/dist-packages (from requests->flask-ngrok) (1.24.3)\n"
          ]
        }
      ]
    },
    {
      "cell_type": "code",
      "source": [
        "!pip install pyngrok==4.1.1"
      ],
      "metadata": {
        "colab": {
          "base_uri": "https://localhost:8080/"
        },
        "id": "BQXfeN2ZsOqL",
        "outputId": "4eb68b86-37c4-45cb-b0a9-77945d1b6250"
      },
      "execution_count": null,
      "outputs": [
        {
          "output_type": "stream",
          "name": "stdout",
          "text": [
            "Looking in indexes: https://pypi.org/simple, https://us-python.pkg.dev/colab-wheels/public/simple/\n",
            "Requirement already satisfied: pyngrok==4.1.1 in /usr/local/lib/python3.7/dist-packages (4.1.1)\n",
            "Requirement already satisfied: PyYAML in /usr/local/lib/python3.7/dist-packages (from pyngrok==4.1.1) (6.0)\n",
            "Requirement already satisfied: future in /usr/local/lib/python3.7/dist-packages (from pyngrok==4.1.1) (0.16.0)\n",
            "Authtoken saved to configuration file: /root/.ngrok2/ngrok.yml\n"
          ]
        }
      ]
    },
    {
      "cell_type": "code",
      "source": [
        "!ngrok authtoken '2Dvln4Fgu7JFfdLDTT9XyHF861Q_6Um6WvgtxKJtSLEmDpoBe'"
      ],
      "metadata": {
        "colab": {
          "base_uri": "https://localhost:8080/"
        },
        "id": "e8WAgCxVwfoh",
        "outputId": "e6caf02d-dbaa-4054-fe0e-f56e54d3ae96"
      },
      "execution_count": null,
      "outputs": [
        {
          "output_type": "stream",
          "name": "stdout",
          "text": [
            "Authtoken saved to configuration file: /root/.ngrok2/ngrok.yml\n"
          ]
        }
      ]
    },
    {
      "cell_type": "code",
      "source": [
        "from flask_ngrok import run_with_ngrok\n",
        "from flask import Flask, request, render_template\n",
        "from keras.models import load_model\n",
        "\n",
        "app = Flask(__name__)\n",
        "run_with_ngrok(app)\n",
        "model = load_model('best_model.h5')\n",
        "\n",
        "@app.route('/')\n",
        "def home():\n",
        "    return render_template('index.html')\n",
        "\n",
        "@app.route('/predict',methods=['POST'])\n",
        "def predict():\n",
        "    '''\n",
        "    For rendering results on HTML GUI\n",
        "    '''\n",
        "    int_features = [[int(x) for x in request.form.values()]]\n",
        "    final_features = [sc.transform(int_features)]\n",
        "    prediction = model.predict(final_features)\n",
        "    final_pred = np.where(prediction > 0.5, 'Retire', 'Not-Retire' )\n",
        "\n",
        "    output = final_pred[0][0]\n",
        "\n",
        "    return render_template('index.html', prediction_text='The Customer should : {}'.format(output))\n",
        "\n",
        "if __name__ == \"__main__\":\n",
        " app.run()\n"
      ],
      "metadata": {
        "id": "_au1EbM7zu1k",
        "colab": {
          "base_uri": "https://localhost:8080/"
        },
        "outputId": "4caf5cd0-51dc-4f6b-b542-7a3e46435a00"
      },
      "execution_count": null,
      "outputs": [
        {
          "output_type": "stream",
          "name": "stdout",
          "text": [
            " * Serving Flask app \"__main__\" (lazy loading)\n",
            " * Environment: production\n",
            "\u001b[31m   WARNING: This is a development server. Do not use it in a production deployment.\u001b[0m\n",
            "\u001b[2m   Use a production WSGI server instead.\u001b[0m\n",
            " * Debug mode: off\n"
          ]
        },
        {
          "output_type": "stream",
          "name": "stderr",
          "text": [
            "INFO:werkzeug: * Running on http://127.0.0.1:5000/ (Press CTRL+C to quit)\n"
          ]
        },
        {
          "output_type": "stream",
          "name": "stdout",
          "text": [
            " * Running on http://aaf2-34-86-245-151.ngrok.io\n",
            " * Traffic stats available on http://127.0.0.1:4040\n"
          ]
        },
        {
          "output_type": "stream",
          "name": "stderr",
          "text": [
            "INFO:werkzeug:127.0.0.1 - - [27/Aug/2022 10:24:38] \"\u001b[37mGET / HTTP/1.1\u001b[0m\" 200 -\n",
            "INFO:werkzeug:127.0.0.1 - - [27/Aug/2022 10:24:39] \"\u001b[33mGET /static/css/style.css HTTP/1.1\u001b[0m\" 404 -\n",
            "INFO:werkzeug:127.0.0.1 - - [27/Aug/2022 10:24:39] \"\u001b[33mGET /favicon.ico HTTP/1.1\u001b[0m\" 404 -\n",
            "INFO:werkzeug:127.0.0.1 - - [27/Aug/2022 10:25:01] \"\u001b[37mPOST /predict HTTP/1.1\u001b[0m\" 200 -\n",
            "INFO:werkzeug:127.0.0.1 - - [27/Aug/2022 10:25:38] \"\u001b[33mGET /static/css/style.css HTTP/1.1\u001b[0m\" 404 -\n",
            "INFO:werkzeug:127.0.0.1 - - [27/Aug/2022 10:25:54] \"\u001b[37mPOST /predict HTTP/1.1\u001b[0m\" 200 -\n",
            "INFO:werkzeug:127.0.0.1 - - [27/Aug/2022 10:25:55] \"\u001b[33mGET /static/css/style.css HTTP/1.1\u001b[0m\" 404 -\n",
            "INFO:werkzeug:127.0.0.1 - - [27/Aug/2022 10:26:05] \"\u001b[37mPOST /predict HTTP/1.1\u001b[0m\" 200 -\n",
            "INFO:werkzeug:127.0.0.1 - - [27/Aug/2022 10:26:06] \"\u001b[33mGET /static/css/style.css HTTP/1.1\u001b[0m\" 404 -\n",
            "INFO:werkzeug:127.0.0.1 - - [27/Aug/2022 10:26:20] \"\u001b[37mPOST /predict HTTP/1.1\u001b[0m\" 200 -\n",
            "INFO:werkzeug:127.0.0.1 - - [27/Aug/2022 10:26:20] \"\u001b[33mGET /static/css/style.css HTTP/1.1\u001b[0m\" 404 -\n",
            "INFO:werkzeug:127.0.0.1 - - [27/Aug/2022 10:26:30] \"\u001b[37mPOST /predict HTTP/1.1\u001b[0m\" 200 -\n",
            "INFO:werkzeug:127.0.0.1 - - [27/Aug/2022 10:26:30] \"\u001b[33mGET /static/css/style.css HTTP/1.1\u001b[0m\" 404 -\n"
          ]
        }
      ]
    },
    {
      "cell_type": "code",
      "source": [],
      "metadata": {
        "id": "9a7Xbwbuvbdw"
      },
      "execution_count": null,
      "outputs": []
    }
  ]
}